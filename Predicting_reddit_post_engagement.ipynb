{
  "nbformat": 4,
  "nbformat_minor": 0,
  "metadata": {
    "colab": {
      "provenance": [],
      "collapsed_sections": [
        "4idYeOYbCU_p",
        "bZSboSbEUJXs"
      ],
      "include_colab_link": true
    },
    "kernelspec": {
      "name": "python3",
      "display_name": "Python 3"
    },
    "language_info": {
      "name": "python"
    }
  },
  "cells": [
    {
      "cell_type": "markdown",
      "metadata": {
        "id": "view-in-github",
        "colab_type": "text"
      },
      "source": [
        "<a href=\"https://colab.research.google.com/github/praths007/predicting_reddit_post_engagement/blob/main/Predicting_reddit_post_engagement.ipynb\" target=\"_parent\"><img src=\"https://colab.research.google.com/assets/colab-badge.svg\" alt=\"Open In Colab\"/></a>"
      ]
    },
    {
      "cell_type": "markdown",
      "source": [
        "## AML Group Project - MSBA Fall'22\n",
        "## Reddit engagement prediction\n",
        "---\n",
        "\n",
        "**Group 9 - Ankit Muthiyan, Rochan Nehete, Amanda Nguyen, Prathmesh Savale, Rishabh Tiwari**"
      ],
      "metadata": {
        "id": "k-8-3Ae2mCdn"
      }
    },
    {
      "cell_type": "code",
      "source": [
        "# %%shell\n",
        "# jupyter nbconvert --to html /content/AML_project_predict_reddit_engagement.ipynb"
      ],
      "metadata": {
        "id": "njdAH1DgasBP"
      },
      "execution_count": null,
      "outputs": []
    },
    {
      "cell_type": "code",
      "source": [
        "from google.colab import drive\n",
        "drive.mount('/content/drive')"
      ],
      "metadata": {
        "colab": {
          "base_uri": "https://localhost:8080/"
        },
        "id": "Vj0rr6On-m_L",
        "outputId": "12302a69-a953-4469-875e-db1ede32a971"
      },
      "execution_count": null,
      "outputs": [
        {
          "output_type": "stream",
          "name": "stdout",
          "text": [
            "Mounted at /content/drive\n"
          ]
        }
      ]
    },
    {
      "cell_type": "markdown",
      "source": [
        "# Scrapping Data From Reddit"
      ],
      "metadata": {
        "id": "Lr_EuWlQBUWT"
      }
    },
    {
      "cell_type": "markdown",
      "source": [
        "## Using praw to scrape posts"
      ],
      "metadata": {
        "id": "guXNrfvAgJqL"
      }
    },
    {
      "cell_type": "code",
      "source": [
        "!pip install praw\n",
        "!pip install psaw\n",
        "!pip install regressors\n",
        "!pip install shap\n",
        "!pip install bayesian-optimization\n",
        "!pip install keybert\n",
        "!pip install --upgrade xgboost"
      ],
      "metadata": {
        "colab": {
          "base_uri": "https://localhost:8080/"
        },
        "id": "y1jnE62fPOZA",
        "outputId": "fd111ad4-f0e3-42cd-d61b-8bcf54d29982"
      },
      "execution_count": null,
      "outputs": [
        {
          "output_type": "stream",
          "name": "stdout",
          "text": [
            "Looking in indexes: https://pypi.org/simple, https://us-python.pkg.dev/colab-wheels/public/simple/\n",
            "Collecting praw\n",
            "  Downloading praw-7.6.1-py3-none-any.whl (188 kB)\n",
            "\u001b[K     |████████████████████████████████| 188 kB 4.7 MB/s \n",
            "\u001b[?25hCollecting websocket-client>=0.54.0\n",
            "  Downloading websocket_client-1.4.2-py3-none-any.whl (55 kB)\n",
            "\u001b[K     |████████████████████████████████| 55 kB 1.7 MB/s \n",
            "\u001b[?25hCollecting prawcore<3,>=2.1\n",
            "  Downloading prawcore-2.3.0-py3-none-any.whl (16 kB)\n",
            "Collecting update-checker>=0.18\n",
            "  Downloading update_checker-0.18.0-py3-none-any.whl (7.0 kB)\n",
            "Requirement already satisfied: requests<3.0,>=2.6.0 in /usr/local/lib/python3.8/dist-packages (from prawcore<3,>=2.1->praw) (2.23.0)\n",
            "Requirement already satisfied: idna<3,>=2.5 in /usr/local/lib/python3.8/dist-packages (from requests<3.0,>=2.6.0->prawcore<3,>=2.1->praw) (2.10)\n",
            "Requirement already satisfied: certifi>=2017.4.17 in /usr/local/lib/python3.8/dist-packages (from requests<3.0,>=2.6.0->prawcore<3,>=2.1->praw) (2022.9.24)\n",
            "Requirement already satisfied: chardet<4,>=3.0.2 in /usr/local/lib/python3.8/dist-packages (from requests<3.0,>=2.6.0->prawcore<3,>=2.1->praw) (3.0.4)\n",
            "Requirement already satisfied: urllib3!=1.25.0,!=1.25.1,<1.26,>=1.21.1 in /usr/local/lib/python3.8/dist-packages (from requests<3.0,>=2.6.0->prawcore<3,>=2.1->praw) (1.24.3)\n",
            "Installing collected packages: websocket-client, update-checker, prawcore, praw\n",
            "Successfully installed praw-7.6.1 prawcore-2.3.0 update-checker-0.18.0 websocket-client-1.4.2\n",
            "Looking in indexes: https://pypi.org/simple, https://us-python.pkg.dev/colab-wheels/public/simple/\n",
            "Collecting psaw\n",
            "  Downloading psaw-0.1.0-py3-none-any.whl (15 kB)\n",
            "Requirement already satisfied: requests in /usr/local/lib/python3.8/dist-packages (from psaw) (2.23.0)\n",
            "Requirement already satisfied: Click in /usr/local/lib/python3.8/dist-packages (from psaw) (7.1.2)\n",
            "Requirement already satisfied: certifi>=2017.4.17 in /usr/local/lib/python3.8/dist-packages (from requests->psaw) (2022.9.24)\n",
            "Requirement already satisfied: idna<3,>=2.5 in /usr/local/lib/python3.8/dist-packages (from requests->psaw) (2.10)\n",
            "Requirement already satisfied: urllib3!=1.25.0,!=1.25.1,<1.26,>=1.21.1 in /usr/local/lib/python3.8/dist-packages (from requests->psaw) (1.24.3)\n",
            "Requirement already satisfied: chardet<4,>=3.0.2 in /usr/local/lib/python3.8/dist-packages (from requests->psaw) (3.0.4)\n",
            "Installing collected packages: psaw\n",
            "Successfully installed psaw-0.1.0\n",
            "Looking in indexes: https://pypi.org/simple, https://us-python.pkg.dev/colab-wheels/public/simple/\n",
            "Collecting regressors\n",
            "  Downloading regressors-0.0.3.tar.gz (24 kB)\n",
            "Requirement already satisfied: numpy>=1.6.1 in /usr/local/lib/python3.8/dist-packages (from regressors) (1.21.6)\n",
            "Requirement already satisfied: scipy>=0.9 in /usr/local/lib/python3.8/dist-packages (from regressors) (1.7.3)\n",
            "Requirement already satisfied: matplotlib in /usr/local/lib/python3.8/dist-packages (from regressors) (3.2.2)\n",
            "Requirement already satisfied: scikit-learn>=0.17 in /usr/local/lib/python3.8/dist-packages (from regressors) (1.0.2)\n",
            "Requirement already satisfied: statsmodels>=0.6.1 in /usr/local/lib/python3.8/dist-packages (from regressors) (0.12.2)\n",
            "Requirement already satisfied: seaborn in /usr/local/lib/python3.8/dist-packages (from regressors) (0.11.2)\n",
            "Requirement already satisfied: pandas in /usr/local/lib/python3.8/dist-packages (from regressors) (1.3.5)\n",
            "Requirement already satisfied: joblib>=0.11 in /usr/local/lib/python3.8/dist-packages (from scikit-learn>=0.17->regressors) (1.2.0)\n",
            "Requirement already satisfied: threadpoolctl>=2.0.0 in /usr/local/lib/python3.8/dist-packages (from scikit-learn>=0.17->regressors) (3.1.0)\n",
            "Requirement already satisfied: patsy>=0.5 in /usr/local/lib/python3.8/dist-packages (from statsmodels>=0.6.1->regressors) (0.5.3)\n",
            "Requirement already satisfied: pytz>=2017.3 in /usr/local/lib/python3.8/dist-packages (from pandas->regressors) (2022.6)\n",
            "Requirement already satisfied: python-dateutil>=2.7.3 in /usr/local/lib/python3.8/dist-packages (from pandas->regressors) (2.8.2)\n",
            "Requirement already satisfied: six in /usr/local/lib/python3.8/dist-packages (from patsy>=0.5->statsmodels>=0.6.1->regressors) (1.15.0)\n",
            "Requirement already satisfied: cycler>=0.10 in /usr/local/lib/python3.8/dist-packages (from matplotlib->regressors) (0.11.0)\n",
            "Requirement already satisfied: kiwisolver>=1.0.1 in /usr/local/lib/python3.8/dist-packages (from matplotlib->regressors) (1.4.4)\n",
            "Requirement already satisfied: pyparsing!=2.0.4,!=2.1.2,!=2.1.6,>=2.0.1 in /usr/local/lib/python3.8/dist-packages (from matplotlib->regressors) (3.0.9)\n",
            "Building wheels for collected packages: regressors\n",
            "  Building wheel for regressors (setup.py) ... \u001b[?25l\u001b[?25hdone\n",
            "  Created wheel for regressors: filename=regressors-0.0.3-py2.py3-none-any.whl size=12400 sha256=dd2bca53c6b29d118c8f24e9720a9ec67285284ec617e2a44be026872ec6dced\n",
            "  Stored in directory: /root/.cache/pip/wheels/46/c3/e9/d1797db3a01a1f101ad3cbcdf01b1be7273a25c78c77dd4bb9\n",
            "Successfully built regressors\n",
            "Installing collected packages: regressors\n",
            "Successfully installed regressors-0.0.3\n",
            "Looking in indexes: https://pypi.org/simple, https://us-python.pkg.dev/colab-wheels/public/simple/\n",
            "Collecting shap\n",
            "  Downloading shap-0.41.0-cp38-cp38-manylinux_2_12_x86_64.manylinux2010_x86_64.whl (575 kB)\n",
            "\u001b[K     |████████████████████████████████| 575 kB 5.3 MB/s \n",
            "\u001b[?25hCollecting slicer==0.0.7\n",
            "  Downloading slicer-0.0.7-py3-none-any.whl (14 kB)\n",
            "Requirement already satisfied: numpy in /usr/local/lib/python3.8/dist-packages (from shap) (1.21.6)\n",
            "Requirement already satisfied: scikit-learn in /usr/local/lib/python3.8/dist-packages (from shap) (1.0.2)\n",
            "Requirement already satisfied: numba in /usr/local/lib/python3.8/dist-packages (from shap) (0.56.4)\n",
            "Requirement already satisfied: pandas in /usr/local/lib/python3.8/dist-packages (from shap) (1.3.5)\n",
            "Requirement already satisfied: scipy in /usr/local/lib/python3.8/dist-packages (from shap) (1.7.3)\n",
            "Requirement already satisfied: cloudpickle in /usr/local/lib/python3.8/dist-packages (from shap) (1.5.0)\n",
            "Requirement already satisfied: tqdm>4.25.0 in /usr/local/lib/python3.8/dist-packages (from shap) (4.64.1)\n",
            "Requirement already satisfied: packaging>20.9 in /usr/local/lib/python3.8/dist-packages (from shap) (21.3)\n",
            "Requirement already satisfied: pyparsing!=3.0.5,>=2.0.2 in /usr/local/lib/python3.8/dist-packages (from packaging>20.9->shap) (3.0.9)\n",
            "Requirement already satisfied: setuptools in /usr/local/lib/python3.8/dist-packages (from numba->shap) (57.4.0)\n",
            "Requirement already satisfied: importlib-metadata in /usr/local/lib/python3.8/dist-packages (from numba->shap) (4.13.0)\n",
            "Requirement already satisfied: llvmlite<0.40,>=0.39.0dev0 in /usr/local/lib/python3.8/dist-packages (from numba->shap) (0.39.1)\n",
            "Requirement already satisfied: zipp>=0.5 in /usr/local/lib/python3.8/dist-packages (from importlib-metadata->numba->shap) (3.11.0)\n",
            "Requirement already satisfied: pytz>=2017.3 in /usr/local/lib/python3.8/dist-packages (from pandas->shap) (2022.6)\n",
            "Requirement already satisfied: python-dateutil>=2.7.3 in /usr/local/lib/python3.8/dist-packages (from pandas->shap) (2.8.2)\n",
            "Requirement already satisfied: six>=1.5 in /usr/local/lib/python3.8/dist-packages (from python-dateutil>=2.7.3->pandas->shap) (1.15.0)\n",
            "Requirement already satisfied: joblib>=0.11 in /usr/local/lib/python3.8/dist-packages (from scikit-learn->shap) (1.2.0)\n",
            "Requirement already satisfied: threadpoolctl>=2.0.0 in /usr/local/lib/python3.8/dist-packages (from scikit-learn->shap) (3.1.0)\n",
            "Installing collected packages: slicer, shap\n",
            "Successfully installed shap-0.41.0 slicer-0.0.7\n",
            "Looking in indexes: https://pypi.org/simple, https://us-python.pkg.dev/colab-wheels/public/simple/\n",
            "Collecting bayesian-optimization\n",
            "  Downloading bayesian_optimization-1.4.2-py3-none-any.whl (17 kB)\n",
            "Requirement already satisfied: scipy>=1.0.0 in /usr/local/lib/python3.8/dist-packages (from bayesian-optimization) (1.7.3)\n",
            "Collecting colorama>=0.4.6\n",
            "  Downloading colorama-0.4.6-py2.py3-none-any.whl (25 kB)\n",
            "Requirement already satisfied: scikit-learn>=0.18.0 in /usr/local/lib/python3.8/dist-packages (from bayesian-optimization) (1.0.2)\n",
            "Requirement already satisfied: numpy>=1.9.0 in /usr/local/lib/python3.8/dist-packages (from bayesian-optimization) (1.21.6)\n",
            "Requirement already satisfied: joblib>=0.11 in /usr/local/lib/python3.8/dist-packages (from scikit-learn>=0.18.0->bayesian-optimization) (1.2.0)\n",
            "Requirement already satisfied: threadpoolctl>=2.0.0 in /usr/local/lib/python3.8/dist-packages (from scikit-learn>=0.18.0->bayesian-optimization) (3.1.0)\n",
            "Installing collected packages: colorama, bayesian-optimization\n",
            "Successfully installed bayesian-optimization-1.4.2 colorama-0.4.6\n",
            "Looking in indexes: https://pypi.org/simple, https://us-python.pkg.dev/colab-wheels/public/simple/\n",
            "Collecting keybert\n",
            "  Downloading keybert-0.7.0.tar.gz (21 kB)\n",
            "Collecting sentence-transformers>=0.3.8\n",
            "  Downloading sentence-transformers-2.2.2.tar.gz (85 kB)\n",
            "\u001b[K     |████████████████████████████████| 85 kB 3.1 MB/s \n",
            "\u001b[?25hRequirement already satisfied: scikit-learn>=0.22.2 in /usr/local/lib/python3.8/dist-packages (from keybert) (1.0.2)\n",
            "Requirement already satisfied: numpy>=1.18.5 in /usr/local/lib/python3.8/dist-packages (from keybert) (1.21.6)\n",
            "Collecting rich>=10.4.0\n",
            "  Downloading rich-12.6.0-py3-none-any.whl (237 kB)\n",
            "\u001b[K     |████████████████████████████████| 237 kB 32.7 MB/s \n",
            "\u001b[?25hRequirement already satisfied: typing-extensions<5.0,>=4.0.0 in /usr/local/lib/python3.8/dist-packages (from rich>=10.4.0->keybert) (4.4.0)\n",
            "Requirement already satisfied: pygments<3.0.0,>=2.6.0 in /usr/local/lib/python3.8/dist-packages (from rich>=10.4.0->keybert) (2.6.1)\n",
            "Collecting commonmark<0.10.0,>=0.9.0\n",
            "  Downloading commonmark-0.9.1-py2.py3-none-any.whl (51 kB)\n",
            "\u001b[K     |████████████████████████████████| 51 kB 6.6 MB/s \n",
            "\u001b[?25hRequirement already satisfied: threadpoolctl>=2.0.0 in /usr/local/lib/python3.8/dist-packages (from scikit-learn>=0.22.2->keybert) (3.1.0)\n",
            "Requirement already satisfied: scipy>=1.1.0 in /usr/local/lib/python3.8/dist-packages (from scikit-learn>=0.22.2->keybert) (1.7.3)\n",
            "Requirement already satisfied: joblib>=0.11 in /usr/local/lib/python3.8/dist-packages (from scikit-learn>=0.22.2->keybert) (1.2.0)\n",
            "Collecting transformers<5.0.0,>=4.6.0\n",
            "  Downloading transformers-4.25.1-py3-none-any.whl (5.8 MB)\n",
            "\u001b[K     |████████████████████████████████| 5.8 MB 55.9 MB/s \n",
            "\u001b[?25hRequirement already satisfied: tqdm in /usr/local/lib/python3.8/dist-packages (from sentence-transformers>=0.3.8->keybert) (4.64.1)\n",
            "Requirement already satisfied: torch>=1.6.0 in /usr/local/lib/python3.8/dist-packages (from sentence-transformers>=0.3.8->keybert) (1.13.0+cu116)\n",
            "Requirement already satisfied: torchvision in /usr/local/lib/python3.8/dist-packages (from sentence-transformers>=0.3.8->keybert) (0.14.0+cu116)\n",
            "Requirement already satisfied: nltk in /usr/local/lib/python3.8/dist-packages (from sentence-transformers>=0.3.8->keybert) (3.7)\n",
            "Collecting sentencepiece\n",
            "  Downloading sentencepiece-0.1.97-cp38-cp38-manylinux_2_17_x86_64.manylinux2014_x86_64.whl (1.3 MB)\n",
            "\u001b[K     |████████████████████████████████| 1.3 MB 48.0 MB/s \n",
            "\u001b[?25hCollecting huggingface-hub>=0.4.0\n",
            "  Downloading huggingface_hub-0.11.1-py3-none-any.whl (182 kB)\n",
            "\u001b[K     |████████████████████████████████| 182 kB 58.3 MB/s \n",
            "\u001b[?25hRequirement already satisfied: pyyaml>=5.1 in /usr/local/lib/python3.8/dist-packages (from huggingface-hub>=0.4.0->sentence-transformers>=0.3.8->keybert) (6.0)\n",
            "Requirement already satisfied: filelock in /usr/local/lib/python3.8/dist-packages (from huggingface-hub>=0.4.0->sentence-transformers>=0.3.8->keybert) (3.8.0)\n",
            "Requirement already satisfied: requests in /usr/local/lib/python3.8/dist-packages (from huggingface-hub>=0.4.0->sentence-transformers>=0.3.8->keybert) (2.23.0)\n",
            "Requirement already satisfied: packaging>=20.9 in /usr/local/lib/python3.8/dist-packages (from huggingface-hub>=0.4.0->sentence-transformers>=0.3.8->keybert) (21.3)\n",
            "Requirement already satisfied: pyparsing!=3.0.5,>=2.0.2 in /usr/local/lib/python3.8/dist-packages (from packaging>=20.9->huggingface-hub>=0.4.0->sentence-transformers>=0.3.8->keybert) (3.0.9)\n",
            "Collecting tokenizers!=0.11.3,<0.14,>=0.11.1\n",
            "  Downloading tokenizers-0.13.2-cp38-cp38-manylinux_2_17_x86_64.manylinux2014_x86_64.whl (7.6 MB)\n",
            "\u001b[K     |████████████████████████████████| 7.6 MB 47.3 MB/s \n",
            "\u001b[?25hRequirement already satisfied: regex!=2019.12.17 in /usr/local/lib/python3.8/dist-packages (from transformers<5.0.0,>=4.6.0->sentence-transformers>=0.3.8->keybert) (2022.6.2)\n",
            "Requirement already satisfied: click in /usr/local/lib/python3.8/dist-packages (from nltk->sentence-transformers>=0.3.8->keybert) (7.1.2)\n",
            "Requirement already satisfied: chardet<4,>=3.0.2 in /usr/local/lib/python3.8/dist-packages (from requests->huggingface-hub>=0.4.0->sentence-transformers>=0.3.8->keybert) (3.0.4)\n",
            "Requirement already satisfied: urllib3!=1.25.0,!=1.25.1,<1.26,>=1.21.1 in /usr/local/lib/python3.8/dist-packages (from requests->huggingface-hub>=0.4.0->sentence-transformers>=0.3.8->keybert) (1.24.3)\n",
            "Requirement already satisfied: certifi>=2017.4.17 in /usr/local/lib/python3.8/dist-packages (from requests->huggingface-hub>=0.4.0->sentence-transformers>=0.3.8->keybert) (2022.9.24)\n",
            "Requirement already satisfied: idna<3,>=2.5 in /usr/local/lib/python3.8/dist-packages (from requests->huggingface-hub>=0.4.0->sentence-transformers>=0.3.8->keybert) (2.10)\n",
            "Requirement already satisfied: pillow!=8.3.*,>=5.3.0 in /usr/local/lib/python3.8/dist-packages (from torchvision->sentence-transformers>=0.3.8->keybert) (7.1.2)\n",
            "Building wheels for collected packages: keybert, sentence-transformers\n",
            "  Building wheel for keybert (setup.py) ... \u001b[?25l\u001b[?25hdone\n",
            "  Created wheel for keybert: filename=keybert-0.7.0-py3-none-any.whl size=23800 sha256=9901f310bced8ae5298d786fd04389e30280f98982b5cee7c54e15b31d58b357\n",
            "  Stored in directory: /root/.cache/pip/wheels/6c/bc/8b/a51bee77aec33895e6c8c236144b4cc10875659c4d2c80f070\n",
            "  Building wheel for sentence-transformers (setup.py) ... \u001b[?25l\u001b[?25hdone\n",
            "  Created wheel for sentence-transformers: filename=sentence_transformers-2.2.2-py3-none-any.whl size=125938 sha256=03d0438350d2aedcc1520c5abb818f09f1515b310d599a03e4aa7280fbfbffec\n",
            "  Stored in directory: /root/.cache/pip/wheels/5e/6f/8c/d88aec621f3f542d26fac0342bef5e693335d125f4e54aeffe\n",
            "Successfully built keybert sentence-transformers\n",
            "Installing collected packages: tokenizers, huggingface-hub, transformers, sentencepiece, commonmark, sentence-transformers, rich, keybert\n",
            "Successfully installed commonmark-0.9.1 huggingface-hub-0.11.1 keybert-0.7.0 rich-12.6.0 sentence-transformers-2.2.2 sentencepiece-0.1.97 tokenizers-0.13.2 transformers-4.25.1\n",
            "Looking in indexes: https://pypi.org/simple, https://us-python.pkg.dev/colab-wheels/public/simple/\n",
            "Requirement already satisfied: xgboost in /usr/local/lib/python3.8/dist-packages (0.90)\n",
            "Collecting xgboost\n",
            "  Downloading xgboost-1.7.2-py3-none-manylinux2014_x86_64.whl (193.6 MB)\n",
            "\u001b[K     |████████████████████████████████| 193.6 MB 72 kB/s \n",
            "\u001b[?25hRequirement already satisfied: numpy in /usr/local/lib/python3.8/dist-packages (from xgboost) (1.21.6)\n",
            "Requirement already satisfied: scipy in /usr/local/lib/python3.8/dist-packages (from xgboost) (1.7.3)\n",
            "Installing collected packages: xgboost\n",
            "  Attempting uninstall: xgboost\n",
            "    Found existing installation: xgboost 0.90\n",
            "    Uninstalling xgboost-0.90:\n",
            "      Successfully uninstalled xgboost-0.90\n",
            "Successfully installed xgboost-1.7.2\n"
          ]
        }
      ]
    },
    {
      "cell_type": "code",
      "source": [
        "# importing required libraries\n",
        "from sklearn.linear_model import LogisticRegressionCV, LogisticRegression\n",
        "from sklearn.preprocessing import StandardScaler\n",
        "import pandas as pd\n",
        "import matplotlib.pyplot as plt\n",
        "import seaborn as sns\n",
        "from sklearn.linear_model import Lasso, LogisticRegression\n",
        "import sklearn.metrics as metrics\n",
        "from sklearn.model_selection import train_test_split\n",
        "from sklearn.preprocessing import LabelEncoder\n",
        "from tqdm import tqdm\n",
        "from pprint import pprint\n",
        "import numpy as np\n",
        "import praw\n",
        "import pdb\n",
        "import operator\n",
        "import warnings\n",
        "import shap\n",
        "from keybert import KeyBERT\n",
        "from sklearn.ensemble import RandomForestClassifier\n",
        "from sklearn.metrics import accuracy_score, plot_confusion_matrix, classification_report, plot_roc_curve\n",
        "import xgboost as xgb\n",
        "from bayes_opt import BayesianOptimization\n",
        "xgb.__version__\n",
        "\n",
        "\n",
        "warnings.filterwarnings(\"ignore\")"
      ],
      "metadata": {
        "id": "TMMDdlJyKCbD"
      },
      "execution_count": null,
      "outputs": []
    },
    {
      "cell_type": "code",
      "source": [
        "# to deal with dates - conversion to central time\n",
        "from datetime import datetime, timezone\n",
        "import pytz\n",
        "\n",
        "fmt = '%Y-%m-%d %H:%M:%S %Z%z'\n",
        "e = pytz.timezone('US/Central')"
      ],
      "metadata": {
        "id": "Fr9BmPe1EaCf"
      },
      "execution_count": null,
      "outputs": []
    },
    {
      "cell_type": "code",
      "source": [
        "# https://praw.readthedocs.io/en/stable/ (credentials have been removed for priviacy - refer to this for setting up new credentials - https://towardsdatascience.com/scraping-reddit-data-1c0af3040768)\n",
        "reddit = praw.Reddit(\n",
        "    client_id=\"\",\n",
        "    client_secret=\"\",\n",
        "    password=\"\",\n",
        "    user_agent=\"\",\n",
        "    username=\"\",check_for_async=False\n",
        ")\n",
        "print(reddit.user.me())"
      ],
      "metadata": {
        "colab": {
          "base_uri": "https://localhost:8080/"
        },
        "id": "wrAZz858PXS4",
        "outputId": "0ae768a6-d5ae-4109-84c9-a78ca0320693"
      },
      "execution_count": null,
      "outputs": [
        {
          "output_type": "stream",
          "name": "stdout",
          "text": [
            "diamond_hands_007\n"
          ]
        }
      ]
    },
    {
      "cell_type": "code",
      "source": [
        "# checking data frm reddit\n",
        "subReddit = reddit.subreddit('all')\n",
        "df = pd.DataFrame([ vars(post) for post in subReddit.top(\"month\", limit=2) ])\n",
        "df"
      ],
      "metadata": {
        "colab": {
          "base_uri": "https://localhost:8080/",
          "height": 275
        },
        "id": "xPWSAcVk4q2B",
        "outputId": "335efbd4-1a4c-48ac-b4a6-c06e56b751b2"
      },
      "execution_count": null,
      "outputs": [
        {
          "output_type": "execute_result",
          "data": {
            "text/plain": [
              "   comment_limit comment_sort                                        _reddit  \\\n",
              "0           2048   confidence  <praw.reddit.Reddit object at 0x7f0aa9346640>   \n",
              "1           2048   confidence  <praw.reddit.Reddit object at 0x7f0aa9346640>   \n",
              "\n",
              "  approved_at_utc         subreddit selftext author_fullname  saved  \\\n",
              "0            None  nextfuckinglevel              t2_2bcyd83q  False   \n",
              "1            None       MadeMeSmile              t2_t3phj9d2  False   \n",
              "\n",
              "  mod_reason_title  gilded  ...  stickied                              url  \\\n",
              "0             None       3  ...     False  https://v.redd.it/qh2uhpfxe44a1   \n",
              "1             None       6  ...     False  https://i.imgur.com/IJc8s88.jpg   \n",
              "\n",
              "  subreddit_subscribers   created_utc  num_crossposts  \\\n",
              "0               7299998  1.670264e+09              23   \n",
              "1               6896741  1.669581e+09              15   \n",
              "\n",
              "                                               media is_video  _fetched  \\\n",
              "0  {'reddit_video': {'bitrate_kbps': 2400, 'fallb...     True     False   \n",
              "1                                               None    False     False   \n",
              "\n",
              "   _comments_by_id                link_flair_template_id  \n",
              "0               {}                                   NaN  \n",
              "1               {}  b84cc580-cd46-11ea-b23c-0ef1a184f463  \n",
              "\n",
              "[2 rows x 115 columns]"
            ],
            "text/html": [
              "\n",
              "  <div id=\"df-99836a3e-dafc-4c9b-b9aa-4d7cee82b4bb\">\n",
              "    <div class=\"colab-df-container\">\n",
              "      <div>\n",
              "<style scoped>\n",
              "    .dataframe tbody tr th:only-of-type {\n",
              "        vertical-align: middle;\n",
              "    }\n",
              "\n",
              "    .dataframe tbody tr th {\n",
              "        vertical-align: top;\n",
              "    }\n",
              "\n",
              "    .dataframe thead th {\n",
              "        text-align: right;\n",
              "    }\n",
              "</style>\n",
              "<table border=\"1\" class=\"dataframe\">\n",
              "  <thead>\n",
              "    <tr style=\"text-align: right;\">\n",
              "      <th></th>\n",
              "      <th>comment_limit</th>\n",
              "      <th>comment_sort</th>\n",
              "      <th>_reddit</th>\n",
              "      <th>approved_at_utc</th>\n",
              "      <th>subreddit</th>\n",
              "      <th>selftext</th>\n",
              "      <th>author_fullname</th>\n",
              "      <th>saved</th>\n",
              "      <th>mod_reason_title</th>\n",
              "      <th>gilded</th>\n",
              "      <th>...</th>\n",
              "      <th>stickied</th>\n",
              "      <th>url</th>\n",
              "      <th>subreddit_subscribers</th>\n",
              "      <th>created_utc</th>\n",
              "      <th>num_crossposts</th>\n",
              "      <th>media</th>\n",
              "      <th>is_video</th>\n",
              "      <th>_fetched</th>\n",
              "      <th>_comments_by_id</th>\n",
              "      <th>link_flair_template_id</th>\n",
              "    </tr>\n",
              "  </thead>\n",
              "  <tbody>\n",
              "    <tr>\n",
              "      <th>0</th>\n",
              "      <td>2048</td>\n",
              "      <td>confidence</td>\n",
              "      <td>&lt;praw.reddit.Reddit object at 0x7f0aa9346640&gt;</td>\n",
              "      <td>None</td>\n",
              "      <td>nextfuckinglevel</td>\n",
              "      <td></td>\n",
              "      <td>t2_2bcyd83q</td>\n",
              "      <td>False</td>\n",
              "      <td>None</td>\n",
              "      <td>3</td>\n",
              "      <td>...</td>\n",
              "      <td>False</td>\n",
              "      <td>https://v.redd.it/qh2uhpfxe44a1</td>\n",
              "      <td>7299998</td>\n",
              "      <td>1.670264e+09</td>\n",
              "      <td>23</td>\n",
              "      <td>{'reddit_video': {'bitrate_kbps': 2400, 'fallb...</td>\n",
              "      <td>True</td>\n",
              "      <td>False</td>\n",
              "      <td>{}</td>\n",
              "      <td>NaN</td>\n",
              "    </tr>\n",
              "    <tr>\n",
              "      <th>1</th>\n",
              "      <td>2048</td>\n",
              "      <td>confidence</td>\n",
              "      <td>&lt;praw.reddit.Reddit object at 0x7f0aa9346640&gt;</td>\n",
              "      <td>None</td>\n",
              "      <td>MadeMeSmile</td>\n",
              "      <td></td>\n",
              "      <td>t2_t3phj9d2</td>\n",
              "      <td>False</td>\n",
              "      <td>None</td>\n",
              "      <td>6</td>\n",
              "      <td>...</td>\n",
              "      <td>False</td>\n",
              "      <td>https://i.imgur.com/IJc8s88.jpg</td>\n",
              "      <td>6896741</td>\n",
              "      <td>1.669581e+09</td>\n",
              "      <td>15</td>\n",
              "      <td>None</td>\n",
              "      <td>False</td>\n",
              "      <td>False</td>\n",
              "      <td>{}</td>\n",
              "      <td>b84cc580-cd46-11ea-b23c-0ef1a184f463</td>\n",
              "    </tr>\n",
              "  </tbody>\n",
              "</table>\n",
              "<p>2 rows × 115 columns</p>\n",
              "</div>\n",
              "      <button class=\"colab-df-convert\" onclick=\"convertToInteractive('df-99836a3e-dafc-4c9b-b9aa-4d7cee82b4bb')\"\n",
              "              title=\"Convert this dataframe to an interactive table.\"\n",
              "              style=\"display:none;\">\n",
              "        \n",
              "  <svg xmlns=\"http://www.w3.org/2000/svg\" height=\"24px\"viewBox=\"0 0 24 24\"\n",
              "       width=\"24px\">\n",
              "    <path d=\"M0 0h24v24H0V0z\" fill=\"none\"/>\n",
              "    <path d=\"M18.56 5.44l.94 2.06.94-2.06 2.06-.94-2.06-.94-.94-2.06-.94 2.06-2.06.94zm-11 1L8.5 8.5l.94-2.06 2.06-.94-2.06-.94L8.5 2.5l-.94 2.06-2.06.94zm10 10l.94 2.06.94-2.06 2.06-.94-2.06-.94-.94-2.06-.94 2.06-2.06.94z\"/><path d=\"M17.41 7.96l-1.37-1.37c-.4-.4-.92-.59-1.43-.59-.52 0-1.04.2-1.43.59L10.3 9.45l-7.72 7.72c-.78.78-.78 2.05 0 2.83L4 21.41c.39.39.9.59 1.41.59.51 0 1.02-.2 1.41-.59l7.78-7.78 2.81-2.81c.8-.78.8-2.07 0-2.86zM5.41 20L4 18.59l7.72-7.72 1.47 1.35L5.41 20z\"/>\n",
              "  </svg>\n",
              "      </button>\n",
              "      \n",
              "  <style>\n",
              "    .colab-df-container {\n",
              "      display:flex;\n",
              "      flex-wrap:wrap;\n",
              "      gap: 12px;\n",
              "    }\n",
              "\n",
              "    .colab-df-convert {\n",
              "      background-color: #E8F0FE;\n",
              "      border: none;\n",
              "      border-radius: 50%;\n",
              "      cursor: pointer;\n",
              "      display: none;\n",
              "      fill: #1967D2;\n",
              "      height: 32px;\n",
              "      padding: 0 0 0 0;\n",
              "      width: 32px;\n",
              "    }\n",
              "\n",
              "    .colab-df-convert:hover {\n",
              "      background-color: #E2EBFA;\n",
              "      box-shadow: 0px 1px 2px rgba(60, 64, 67, 0.3), 0px 1px 3px 1px rgba(60, 64, 67, 0.15);\n",
              "      fill: #174EA6;\n",
              "    }\n",
              "\n",
              "    [theme=dark] .colab-df-convert {\n",
              "      background-color: #3B4455;\n",
              "      fill: #D2E3FC;\n",
              "    }\n",
              "\n",
              "    [theme=dark] .colab-df-convert:hover {\n",
              "      background-color: #434B5C;\n",
              "      box-shadow: 0px 1px 3px 1px rgba(0, 0, 0, 0.15);\n",
              "      filter: drop-shadow(0px 1px 2px rgba(0, 0, 0, 0.3));\n",
              "      fill: #FFFFFF;\n",
              "    }\n",
              "  </style>\n",
              "\n",
              "      <script>\n",
              "        const buttonEl =\n",
              "          document.querySelector('#df-99836a3e-dafc-4c9b-b9aa-4d7cee82b4bb button.colab-df-convert');\n",
              "        buttonEl.style.display =\n",
              "          google.colab.kernel.accessAllowed ? 'block' : 'none';\n",
              "\n",
              "        async function convertToInteractive(key) {\n",
              "          const element = document.querySelector('#df-99836a3e-dafc-4c9b-b9aa-4d7cee82b4bb');\n",
              "          const dataTable =\n",
              "            await google.colab.kernel.invokeFunction('convertToInteractive',\n",
              "                                                     [key], {});\n",
              "          if (!dataTable) return;\n",
              "\n",
              "          const docLinkHtml = 'Like what you see? Visit the ' +\n",
              "            '<a target=\"_blank\" href=https://colab.research.google.com/notebooks/data_table.ipynb>data table notebook</a>'\n",
              "            + ' to learn more about interactive tables.';\n",
              "          element.innerHTML = '';\n",
              "          dataTable['output_type'] = 'display_data';\n",
              "          await google.colab.output.renderOutput(dataTable, element);\n",
              "          const docLink = document.createElement('div');\n",
              "          docLink.innerHTML = docLinkHtml;\n",
              "          element.appendChild(docLink);\n",
              "        }\n",
              "      </script>\n",
              "    </div>\n",
              "  </div>\n",
              "  "
            ]
          },
          "metadata": {},
          "execution_count": 11
        }
      ]
    },
    {
      "cell_type": "code",
      "source": [
        "!pip list | grep praw"
      ],
      "metadata": {
        "colab": {
          "base_uri": "https://localhost:8080/"
        },
        "id": "vNlIk-3pLu4o",
        "outputId": "07a845f2-07d3-400f-b99c-6fc214796cd3"
      },
      "execution_count": null,
      "outputs": [
        {
          "output_type": "stream",
          "name": "stdout",
          "text": [
            "praw                          7.6.1\n",
            "prawcore                      2.3.0\n"
          ]
        }
      ]
    },
    {
      "cell_type": "code",
      "source": [
        "# # Retrieve the top (most upvoted) 1k posts in the last year and add them to a Pandas dataframe\n",
        "# top_posts = []\n",
        "# subReddit = reddit.subreddit('all')\n",
        "# for post in tqdm(subReddit.top(\"day\",limit=1000), total=1000):\n",
        "#     top_posts.append([post.title, post.score, post.id, post.subreddit, post.url, post.num_comments, post.selftext, post.created_utc, post.author, post.is_self, post.over_18, \\\n",
        "#                   post.spoiler, post.upvote_ratio, post.top_awarded_type, post.num_crossposts, post.subreddit_subscribers, post.locked, post.edited, post.is_original_content, post.view_count, \\\n",
        "#                   post.num_reports, post.removed_by_category]) \n",
        "# top_posts = pd.DataFrame(top_posts, columns=['title', 'score', 'id', 'subreddit', 'url', 'num_comments', 'body', 'created', 'author', \\\n",
        "#                                   'is_self', 'over_18', 'spoiler', 'upvote_ratio', 'top_awarded_type', 'num_crossposts', 'subreddit_subscribers',\\\n",
        "#                                    'locked', 'edited', 'is_original_content', 'view_count', 'num_reports', 'removed_by_category'])\n",
        "# top_posts.to_csv(\"/content/drive/MyDrive/AML_project/top_posts_day.csv\", index=False)\n",
        "\n",
        "# # Retrieve the most controversial (most downvoted) 1k posts in the last year and add them to a Pandas dataframe\n",
        "# controversial_posts = []\n",
        "# subReddit = reddit.subreddit('all')\n",
        "# for post in tqdm(subReddit.controversial(\"day\",limit=1000), total=1000):\n",
        "#     controversial_posts.append([post.title, post.score, post.id, post.subreddit, post.url, post.num_comments, post.selftext, post.created_utc, post.author, post.is_self, post.over_18, \\\n",
        "#                   post.spoiler, post.upvote_ratio, post.top_awarded_type, post.num_crossposts, post.subreddit_subscribers, post.locked, post.edited, post.is_original_content, post.view_count, \\\n",
        "#                   post.num_reports, post.removed_by_category]) \n",
        "# controversial_posts = pd.DataFrame(controversial_posts, columns=['title', 'score', 'id', 'subreddit', 'url', 'num_comments', 'body', 'created', 'author', \\\n",
        "#                                   'is_self', 'over_18', 'spoiler', 'upvote_ratio', 'top_awarded_type', 'num_crossposts', 'subreddit_subscribers',\\\n",
        "#                                    'locked', 'edited', 'is_original_content', 'view_count', 'num_reports', 'removed_by_category'])\n",
        "# controversial_posts.to_csv(\"/content/drive/MyDrive/AML_project/controversial_posts_day.csv\", index=False)"
      ],
      "metadata": {
        "id": "xv676JWuKGO-"
      },
      "execution_count": null,
      "outputs": []
    },
    {
      "cell_type": "code",
      "source": [
        "top_posts_day = pd.read_csv(\"/content/drive/MyDrive/AML_project/top_posts_day.csv\")\n",
        "top_posts_hour = pd.read_csv(\"/content/drive/MyDrive/AML_project/top_posts_hour.csv\")\n",
        "top_posts_month = pd.read_csv(\"/content/drive/MyDrive/AML_project/top_posts_month.csv\")\n",
        "top_posts_week = pd.read_csv(\"/content/drive/MyDrive/AML_project/top_posts_week.csv\")\n",
        "top_posts_all = pd.read_csv(\"/content/drive/MyDrive/AML_project/top_posts_all.csv\")\n",
        "\n",
        "controversial_posts_day = pd.read_csv(\"/content/drive/MyDrive/AML_project/controversial_posts_day.csv\")\n",
        "controversial_posts_hour = pd.read_csv(\"/content/drive/MyDrive/AML_project/controversial_posts_hour.csv\")\n",
        "controversial_posts_month = pd.read_csv(\"/content/drive/MyDrive/AML_project/controversial_posts_month.csv\")\n",
        "controversial_posts_week = pd.read_csv(\"/content/drive/MyDrive/AML_project/controversial_posts_week.csv\")\n",
        "controversial_posts_all = pd.read_csv(\"/content/drive/MyDrive/AML_project/controversial_posts_all.csv\")"
      ],
      "metadata": {
        "id": "H0nM2xKvKJTE"
      },
      "execution_count": null,
      "outputs": []
    },
    {
      "cell_type": "code",
      "source": [
        "top_posts = pd.concat([top_posts_day, top_posts_hour, top_posts_month, top_posts_week, top_posts_all])\n",
        "controversial_posts = pd.concat([controversial_posts_day, controversial_posts_hour, controversial_posts_month, controversial_posts_week, controversial_posts_all])"
      ],
      "metadata": {
        "id": "gWwmyze-hhDB"
      },
      "execution_count": null,
      "outputs": []
    },
    {
      "cell_type": "code",
      "source": [
        "#Top 10 List of subreddits that have broken top 1k\n",
        "top_subs = top_posts.subreddit.unique() \n",
        "top_subs[:10]"
      ],
      "metadata": {
        "colab": {
          "base_uri": "https://localhost:8080/"
        },
        "id": "zY4IEdByTqQD",
        "outputId": "0da4b6f4-0c89-4854-a854-6e67e3ba160b"
      },
      "execution_count": null,
      "outputs": [
        {
          "output_type": "execute_result",
          "data": {
            "text/plain": [
              "array(['nextfuckinglevel', 'meirl', 'Unexpected', 'aww', 'space',\n",
              "       'ProgrammerHumor', 'mildlyinfuriating', 'memes',\n",
              "       'interestingasfuck', 'WhitePeopleTwitter'], dtype=object)"
            ]
          },
          "metadata": {},
          "execution_count": 15
        }
      ]
    },
    {
      "cell_type": "code",
      "source": [
        " #Top 10 subreddits that have broken most controversial 1k\n",
        "controversialSubReddits = controversial_posts.subreddit.unique()\n",
        "controversialSubReddits[0:10]"
      ],
      "metadata": {
        "id": "Zo-_bv89T7cR",
        "colab": {
          "base_uri": "https://localhost:8080/"
        },
        "outputId": "f3fff110-f177-4cd3-9957-ba905ae9140f"
      },
      "execution_count": null,
      "outputs": [
        {
          "output_type": "execute_result",
          "data": {
            "text/plain": [
              "array(['Conservative', 'pics', 'WhitePeopleTwitter', 'CombatFootage',\n",
              "       'assholedesign', 'ich_iel', 'pathofexile', 'fightporn',\n",
              "       'LivestreamFail', 'Miami'], dtype=object)"
            ]
          },
          "metadata": {},
          "execution_count": 16
        }
      ]
    },
    {
      "cell_type": "markdown",
      "source": [
        "## Dataset Creation"
      ],
      "metadata": {
        "id": "cJ2fHxvaU55a"
      }
    },
    {
      "cell_type": "code",
      "source": [
        "# assigning 1 to top post and 0 to controversial\n",
        "top_posts[\"post_type\"] = 1\n",
        "controversial_posts[\"post_type\"] = 0\n",
        "posts_df = pd.concat([top_posts, controversial_posts])"
      ],
      "metadata": {
        "id": "Kqx6js9iwXVW"
      },
      "execution_count": null,
      "outputs": []
    },
    {
      "cell_type": "markdown",
      "source": [
        "# Feature Engineering"
      ],
      "metadata": {
        "id": "FyoJdbPe31Aw"
      }
    },
    {
      "cell_type": "code",
      "source": [
        "# word counts for text\n",
        "posts_df['title_word_count'] = posts_df['title'].apply(lambda x: str(x).split()).apply(lambda x:len(x))\n",
        "posts_df['body_word_count'] = posts_df['body'].apply(lambda x: str(x).split()).apply(lambda x:len(x))"
      ],
      "metadata": {
        "id": "V9tNNjsy3z-j"
      },
      "execution_count": null,
      "outputs": []
    },
    {
      "cell_type": "code",
      "source": [
        "# converting utc to cst\n",
        "posts_df['created_cst'] = posts_df['created'].apply(lambda x: datetime.fromtimestamp(x, tz=timezone.utc)).apply(lambda x: x.astimezone(tz=pytz.timezone('US/Central')))\n",
        "posts_df['edited_cst'] = posts_df['edited'].apply(lambda x: None if x=='False' else datetime.fromtimestamp(int(float(x)), tz=timezone.utc).astimezone(tz=pytz.timezone('US/Central')))"
      ],
      "metadata": {
        "id": "BG2lolq1wabs"
      },
      "execution_count": null,
      "outputs": []
    },
    {
      "cell_type": "code",
      "source": [
        "# diff between created and edited time\n",
        "posts_df['create_edit_days'] = (posts_df['edited_cst'] - posts_df['created_cst']).dt.days"
      ],
      "metadata": {
        "id": "pRS0a4gFM9x4"
      },
      "execution_count": null,
      "outputs": []
    },
    {
      "cell_type": "code",
      "source": [
        "# converting time date created to time of year, month, date, (time of day - morning, evening, night etc.)\n",
        "posts_df['created_month'] = posts_df['created_cst'].dt.month\n",
        "posts_df['created_day'] = posts_df['created_cst'].dt.day\n",
        "posts_df = posts_df.assign(created_session=pd.cut(posts_df['created_cst'].dt.hour, [0,6,12,18,23], labels=['Night','Morning','Afternoon','Evening'], include_lowest=True))"
      ],
      "metadata": {
        "id": "oOBlIMJAq18j"
      },
      "execution_count": null,
      "outputs": []
    },
    {
      "cell_type": "code",
      "source": [
        "# checking for column data types\n",
        "posts_df.info()"
      ],
      "metadata": {
        "colab": {
          "base_uri": "https://localhost:8080/"
        },
        "id": "mw9j97wPEKso",
        "outputId": "b368112b-fc0d-4b19-abc6-cefa46eaf3bf"
      },
      "execution_count": null,
      "outputs": [
        {
          "output_type": "stream",
          "name": "stdout",
          "text": [
            "<class 'pandas.core.frame.DataFrame'>\n",
            "Int64Index: 8301 entries, 0 to 680\n",
            "Data columns (total 31 columns):\n",
            " #   Column                 Non-Null Count  Dtype                     \n",
            "---  ------                 --------------  -----                     \n",
            " 0   title                  8301 non-null   object                    \n",
            " 1   score                  8301 non-null   int64                     \n",
            " 2   id                     8301 non-null   object                    \n",
            " 3   subreddit              8301 non-null   object                    \n",
            " 4   url                    8301 non-null   object                    \n",
            " 5   num_comments           8301 non-null   int64                     \n",
            " 6   body                   1518 non-null   object                    \n",
            " 7   created                8301 non-null   float64                   \n",
            " 8   author                 8205 non-null   object                    \n",
            " 9   is_self                8301 non-null   bool                      \n",
            " 10  over_18                8301 non-null   bool                      \n",
            " 11  spoiler                8301 non-null   bool                      \n",
            " 12  upvote_ratio           8301 non-null   float64                   \n",
            " 13  top_awarded_type       389 non-null    object                    \n",
            " 14  num_crossposts         8301 non-null   int64                     \n",
            " 15  subreddit_subscribers  8301 non-null   int64                     \n",
            " 16  locked                 8301 non-null   bool                      \n",
            " 17  edited                 8301 non-null   object                    \n",
            " 18  is_original_content    8301 non-null   bool                      \n",
            " 19  view_count             0 non-null      float64                   \n",
            " 20  num_reports            0 non-null      float64                   \n",
            " 21  removed_by_category    1 non-null      object                    \n",
            " 22  post_type              8301 non-null   int64                     \n",
            " 23  title_word_count       8301 non-null   int64                     \n",
            " 24  body_word_count        8301 non-null   int64                     \n",
            " 25  created_cst            8301 non-null   datetime64[ns, US/Central]\n",
            " 26  edited_cst             285 non-null    datetime64[ns, US/Central]\n",
            " 27  create_edit_days       285 non-null    float64                   \n",
            " 28  created_month          8301 non-null   int64                     \n",
            " 29  created_day            8301 non-null   int64                     \n",
            " 30  created_session        8301 non-null   category                  \n",
            "dtypes: bool(5), category(1), datetime64[ns, US/Central](2), float64(5), int64(9), object(9)\n",
            "memory usage: 1.7+ MB\n"
          ]
        }
      ]
    },
    {
      "cell_type": "code",
      "source": [
        "# removing unwanted columns\n",
        "cols_to_drop = ['id', 'url', 'author', 'created', 'top_awarded_type', 'edited', 'created_cst', 'edited_cst']\n",
        "posts_df = posts_df.drop(columns = cols_to_drop).copy()\n",
        "posts_df.head(4)"
      ],
      "metadata": {
        "colab": {
          "base_uri": "https://localhost:8080/",
          "height": 494
        },
        "id": "jNYr0n0dptn6",
        "outputId": "602b4007-bf37-4d29-e692-5c69c7610576"
      },
      "execution_count": null,
      "outputs": [
        {
          "output_type": "execute_result",
          "data": {
            "text/plain": [
              "                                               title   score  \\\n",
              "0  Citizens chant \"CCP, step down\" and \"Xi Jinpin...  124406   \n",
              "1                                              Meirl  100724   \n",
              "2                           Mime pranking a tourist!   84583   \n",
              "3  My wife, my daughter, and my grandson, sitting...   82613   \n",
              "\n",
              "          subreddit  num_comments body  is_self  over_18  spoiler  \\\n",
              "0  nextfuckinglevel          6070  NaN    False    False    False   \n",
              "1             meirl           827  NaN    False    False    False   \n",
              "2        Unexpected           653  NaN    False    False    False   \n",
              "3               aww          1035  NaN    False    False    False   \n",
              "\n",
              "   upvote_ratio  num_crossposts  ...  view_count  num_reports  \\\n",
              "0          0.87              53  ...         NaN          NaN   \n",
              "1          0.93               3  ...         NaN          NaN   \n",
              "2          0.92              18  ...         NaN          NaN   \n",
              "3          0.90               4  ...         NaN          NaN   \n",
              "\n",
              "   removed_by_category  post_type  title_word_count body_word_count  \\\n",
              "0                  NaN          1                16               1   \n",
              "1                  NaN          1                 1               1   \n",
              "2                  NaN          1                 4               1   \n",
              "3                  NaN          1                14               1   \n",
              "\n",
              "   create_edit_days  created_month  created_day  created_session  \n",
              "0               NaN             11           26        Afternoon  \n",
              "1               NaN             11           26        Afternoon  \n",
              "2               NaN             11           26          Evening  \n",
              "3               NaN             11           26        Afternoon  \n",
              "\n",
              "[4 rows x 23 columns]"
            ],
            "text/html": [
              "\n",
              "  <div id=\"df-7ec0f97c-0c26-450c-bef6-34e4f42234a9\">\n",
              "    <div class=\"colab-df-container\">\n",
              "      <div>\n",
              "<style scoped>\n",
              "    .dataframe tbody tr th:only-of-type {\n",
              "        vertical-align: middle;\n",
              "    }\n",
              "\n",
              "    .dataframe tbody tr th {\n",
              "        vertical-align: top;\n",
              "    }\n",
              "\n",
              "    .dataframe thead th {\n",
              "        text-align: right;\n",
              "    }\n",
              "</style>\n",
              "<table border=\"1\" class=\"dataframe\">\n",
              "  <thead>\n",
              "    <tr style=\"text-align: right;\">\n",
              "      <th></th>\n",
              "      <th>title</th>\n",
              "      <th>score</th>\n",
              "      <th>subreddit</th>\n",
              "      <th>num_comments</th>\n",
              "      <th>body</th>\n",
              "      <th>is_self</th>\n",
              "      <th>over_18</th>\n",
              "      <th>spoiler</th>\n",
              "      <th>upvote_ratio</th>\n",
              "      <th>num_crossposts</th>\n",
              "      <th>...</th>\n",
              "      <th>view_count</th>\n",
              "      <th>num_reports</th>\n",
              "      <th>removed_by_category</th>\n",
              "      <th>post_type</th>\n",
              "      <th>title_word_count</th>\n",
              "      <th>body_word_count</th>\n",
              "      <th>create_edit_days</th>\n",
              "      <th>created_month</th>\n",
              "      <th>created_day</th>\n",
              "      <th>created_session</th>\n",
              "    </tr>\n",
              "  </thead>\n",
              "  <tbody>\n",
              "    <tr>\n",
              "      <th>0</th>\n",
              "      <td>Citizens chant \"CCP, step down\" and \"Xi Jinpin...</td>\n",
              "      <td>124406</td>\n",
              "      <td>nextfuckinglevel</td>\n",
              "      <td>6070</td>\n",
              "      <td>NaN</td>\n",
              "      <td>False</td>\n",
              "      <td>False</td>\n",
              "      <td>False</td>\n",
              "      <td>0.87</td>\n",
              "      <td>53</td>\n",
              "      <td>...</td>\n",
              "      <td>NaN</td>\n",
              "      <td>NaN</td>\n",
              "      <td>NaN</td>\n",
              "      <td>1</td>\n",
              "      <td>16</td>\n",
              "      <td>1</td>\n",
              "      <td>NaN</td>\n",
              "      <td>11</td>\n",
              "      <td>26</td>\n",
              "      <td>Afternoon</td>\n",
              "    </tr>\n",
              "    <tr>\n",
              "      <th>1</th>\n",
              "      <td>Meirl</td>\n",
              "      <td>100724</td>\n",
              "      <td>meirl</td>\n",
              "      <td>827</td>\n",
              "      <td>NaN</td>\n",
              "      <td>False</td>\n",
              "      <td>False</td>\n",
              "      <td>False</td>\n",
              "      <td>0.93</td>\n",
              "      <td>3</td>\n",
              "      <td>...</td>\n",
              "      <td>NaN</td>\n",
              "      <td>NaN</td>\n",
              "      <td>NaN</td>\n",
              "      <td>1</td>\n",
              "      <td>1</td>\n",
              "      <td>1</td>\n",
              "      <td>NaN</td>\n",
              "      <td>11</td>\n",
              "      <td>26</td>\n",
              "      <td>Afternoon</td>\n",
              "    </tr>\n",
              "    <tr>\n",
              "      <th>2</th>\n",
              "      <td>Mime pranking a tourist!</td>\n",
              "      <td>84583</td>\n",
              "      <td>Unexpected</td>\n",
              "      <td>653</td>\n",
              "      <td>NaN</td>\n",
              "      <td>False</td>\n",
              "      <td>False</td>\n",
              "      <td>False</td>\n",
              "      <td>0.92</td>\n",
              "      <td>18</td>\n",
              "      <td>...</td>\n",
              "      <td>NaN</td>\n",
              "      <td>NaN</td>\n",
              "      <td>NaN</td>\n",
              "      <td>1</td>\n",
              "      <td>4</td>\n",
              "      <td>1</td>\n",
              "      <td>NaN</td>\n",
              "      <td>11</td>\n",
              "      <td>26</td>\n",
              "      <td>Evening</td>\n",
              "    </tr>\n",
              "    <tr>\n",
              "      <th>3</th>\n",
              "      <td>My wife, my daughter, and my grandson, sitting...</td>\n",
              "      <td>82613</td>\n",
              "      <td>aww</td>\n",
              "      <td>1035</td>\n",
              "      <td>NaN</td>\n",
              "      <td>False</td>\n",
              "      <td>False</td>\n",
              "      <td>False</td>\n",
              "      <td>0.90</td>\n",
              "      <td>4</td>\n",
              "      <td>...</td>\n",
              "      <td>NaN</td>\n",
              "      <td>NaN</td>\n",
              "      <td>NaN</td>\n",
              "      <td>1</td>\n",
              "      <td>14</td>\n",
              "      <td>1</td>\n",
              "      <td>NaN</td>\n",
              "      <td>11</td>\n",
              "      <td>26</td>\n",
              "      <td>Afternoon</td>\n",
              "    </tr>\n",
              "  </tbody>\n",
              "</table>\n",
              "<p>4 rows × 23 columns</p>\n",
              "</div>\n",
              "      <button class=\"colab-df-convert\" onclick=\"convertToInteractive('df-7ec0f97c-0c26-450c-bef6-34e4f42234a9')\"\n",
              "              title=\"Convert this dataframe to an interactive table.\"\n",
              "              style=\"display:none;\">\n",
              "        \n",
              "  <svg xmlns=\"http://www.w3.org/2000/svg\" height=\"24px\"viewBox=\"0 0 24 24\"\n",
              "       width=\"24px\">\n",
              "    <path d=\"M0 0h24v24H0V0z\" fill=\"none\"/>\n",
              "    <path d=\"M18.56 5.44l.94 2.06.94-2.06 2.06-.94-2.06-.94-.94-2.06-.94 2.06-2.06.94zm-11 1L8.5 8.5l.94-2.06 2.06-.94-2.06-.94L8.5 2.5l-.94 2.06-2.06.94zm10 10l.94 2.06.94-2.06 2.06-.94-2.06-.94-.94-2.06-.94 2.06-2.06.94z\"/><path d=\"M17.41 7.96l-1.37-1.37c-.4-.4-.92-.59-1.43-.59-.52 0-1.04.2-1.43.59L10.3 9.45l-7.72 7.72c-.78.78-.78 2.05 0 2.83L4 21.41c.39.39.9.59 1.41.59.51 0 1.02-.2 1.41-.59l7.78-7.78 2.81-2.81c.8-.78.8-2.07 0-2.86zM5.41 20L4 18.59l7.72-7.72 1.47 1.35L5.41 20z\"/>\n",
              "  </svg>\n",
              "      </button>\n",
              "      \n",
              "  <style>\n",
              "    .colab-df-container {\n",
              "      display:flex;\n",
              "      flex-wrap:wrap;\n",
              "      gap: 12px;\n",
              "    }\n",
              "\n",
              "    .colab-df-convert {\n",
              "      background-color: #E8F0FE;\n",
              "      border: none;\n",
              "      border-radius: 50%;\n",
              "      cursor: pointer;\n",
              "      display: none;\n",
              "      fill: #1967D2;\n",
              "      height: 32px;\n",
              "      padding: 0 0 0 0;\n",
              "      width: 32px;\n",
              "    }\n",
              "\n",
              "    .colab-df-convert:hover {\n",
              "      background-color: #E2EBFA;\n",
              "      box-shadow: 0px 1px 2px rgba(60, 64, 67, 0.3), 0px 1px 3px 1px rgba(60, 64, 67, 0.15);\n",
              "      fill: #174EA6;\n",
              "    }\n",
              "\n",
              "    [theme=dark] .colab-df-convert {\n",
              "      background-color: #3B4455;\n",
              "      fill: #D2E3FC;\n",
              "    }\n",
              "\n",
              "    [theme=dark] .colab-df-convert:hover {\n",
              "      background-color: #434B5C;\n",
              "      box-shadow: 0px 1px 3px 1px rgba(0, 0, 0, 0.15);\n",
              "      filter: drop-shadow(0px 1px 2px rgba(0, 0, 0, 0.3));\n",
              "      fill: #FFFFFF;\n",
              "    }\n",
              "  </style>\n",
              "\n",
              "      <script>\n",
              "        const buttonEl =\n",
              "          document.querySelector('#df-7ec0f97c-0c26-450c-bef6-34e4f42234a9 button.colab-df-convert');\n",
              "        buttonEl.style.display =\n",
              "          google.colab.kernel.accessAllowed ? 'block' : 'none';\n",
              "\n",
              "        async function convertToInteractive(key) {\n",
              "          const element = document.querySelector('#df-7ec0f97c-0c26-450c-bef6-34e4f42234a9');\n",
              "          const dataTable =\n",
              "            await google.colab.kernel.invokeFunction('convertToInteractive',\n",
              "                                                     [key], {});\n",
              "          if (!dataTable) return;\n",
              "\n",
              "          const docLinkHtml = 'Like what you see? Visit the ' +\n",
              "            '<a target=\"_blank\" href=https://colab.research.google.com/notebooks/data_table.ipynb>data table notebook</a>'\n",
              "            + ' to learn more about interactive tables.';\n",
              "          element.innerHTML = '';\n",
              "          dataTable['output_type'] = 'display_data';\n",
              "          await google.colab.output.renderOutput(dataTable, element);\n",
              "          const docLink = document.createElement('div');\n",
              "          docLink.innerHTML = docLinkHtml;\n",
              "          element.appendChild(docLink);\n",
              "        }\n",
              "      </script>\n",
              "    </div>\n",
              "  </div>\n",
              "  "
            ]
          },
          "metadata": {},
          "execution_count": 23
        }
      ]
    },
    {
      "cell_type": "markdown",
      "source": [
        "# Exploratory Data Analysis"
      ],
      "metadata": {
        "id": "Cad0P4dbs4Va"
      }
    },
    {
      "cell_type": "code",
      "source": [
        "top = posts_df[posts_df['post_type'] == 1]\n",
        "subs = top.groupby(['subreddit']).size().reset_index(name='count').sort_values(by = 'count', ascending = False)\n",
        "subs\n",
        "# top_subs = subs[subs['count'] > 20]\n",
        "top_subs = subs.head(10)\n",
        "\n",
        "plt.bar(top_subs['subreddit'], top_subs['count'], align='center')\n",
        "# plt.plot(top_subs['subreddit'], top_subs['subreddit_subscribers'])\n",
        "plt.xticks(rotation='vertical')\n",
        "plt.title(\"Most Frequent Subreddits among Top posts\")\n",
        "plt.ylabel(\"Number of Posts\")\n",
        "plt.xlabel(\"Subreddit Name\")\n",
        "plt.show()"
      ],
      "metadata": {
        "colab": {
          "base_uri": "https://localhost:8080/",
          "height": 381
        },
        "id": "KJgG11fyu7rR",
        "outputId": "67e81cd6-e1ad-4a88-fd63-b7c44797f40a"
      },
      "execution_count": null,
      "outputs": [
        {
          "output_type": "display_data",
          "data": {
            "text/plain": [
              "<Figure size 432x288 with 1 Axes>"
            ],
            "image/png": "[encoded data removed]"
          },
          "metadata": {
            "needs_background": "light"
          }
        }
      ]
    },
    {
      "cell_type": "code",
      "source": [
        "contro = posts_df[posts_df['post_type'] == 0]\n",
        "subs = contro.groupby(['subreddit']).size().reset_index(name='count').sort_values(by = 'count', ascending = False)\n",
        "subs\n",
        "# contro_subs = subs[subs['count'] > 10]\n",
        "contro_subs = subs.head(10)\n",
        "\n",
        "plt.bar(contro_subs['subreddit'], contro_subs['count'], align='center')\n",
        "plt.xticks(rotation='vertical')\n",
        "plt.title(\"Most Frequent Subreddits among Controversial posts\")\n",
        "plt.ylabel(\"Number of Posts\")\n",
        "plt.xlabel(\"Subreddit Name\")\n",
        "plt.show()\n",
        "\n",
        "### Conservative, conspiracy...."
      ],
      "metadata": {
        "colab": {
          "base_uri": "https://localhost:8080/",
          "height": 393
        },
        "id": "jsUOAKpgxy4J",
        "outputId": "ce8e9ca9-7cd4-4c3f-cd56-8582121647ea"
      },
      "execution_count": null,
      "outputs": [
        {
          "output_type": "display_data",
          "data": {
            "text/plain": [
              "<Figure size 432x288 with 1 Axes>"
            ],
            "image/png": "[encoded data removed]"
          },
          "metadata": {
            "needs_background": "light"
          }
        }
      ]
    },
    {
      "cell_type": "code",
      "source": [
        "top = posts_df[posts_df['post_type'] == 1]\n",
        "print(top['title_word_count'].mean())\n",
        "print(top['title_word_count'].median())\n",
        "\n",
        "top = top.groupby(['title_word_count']).size().reset_index(name='count')\n",
        "\n",
        "contro = posts_df[posts_df['post_type'] == 0]\n",
        "contro = contro.groupby(['title_word_count']).size().reset_index(name='count')\n",
        "contro\n",
        "\n",
        "plt.bar(top['title_word_count'], top['count'])\n",
        "plt.xticks(rotation='vertical')\n",
        "plt.title(\"Title Length of Top posts\")\n",
        "plt.ylabel(\"Number of Posts\")\n",
        "plt.xlabel(\"Title Length\")\n",
        "plt.show()"
      ],
      "metadata": {
        "colab": {
          "base_uri": "https://localhost:8080/",
          "height": 334
        },
        "id": "OcfgQFESrxNn",
        "outputId": "9c71b664-15f9-49ab-cb41-acb8557cbacd"
      },
      "execution_count": null,
      "outputs": [
        {
          "output_type": "stream",
          "name": "stdout",
          "text": [
            "10.15469483568075\n",
            "8.0\n"
          ]
        },
        {
          "output_type": "display_data",
          "data": {
            "text/plain": [
              "<Figure size 432x288 with 1 Axes>"
            ],
            "image/png": "[encoded data removed]"
          },
          "metadata": {
            "needs_background": "light"
          }
        }
      ]
    },
    {
      "cell_type": "code",
      "source": [
        "consistent_subs = top_subs.head(5).append(contro_subs.head(5), ignore_index=True)\n",
        "consistent_subs_posts_df = posts_df.merge(consistent_subs,how='inner',left_on=['subreddit'],right_on=['subreddit'])\n",
        "sns.boxplot(x='post_type',y='title_word_count',data=consistent_subs_posts_df,palette='rainbow')\n",
        "plt.title(\"Title word count of posts by Controversial/Top posts\")"
      ],
      "metadata": {
        "colab": {
          "base_uri": "https://localhost:8080/",
          "height": 314
        },
        "id": "8b2xAkKOs94p",
        "outputId": "f4bd627a-0fce-42cf-94c1-d98b266431d9"
      },
      "execution_count": null,
      "outputs": [
        {
          "output_type": "execute_result",
          "data": {
            "text/plain": [
              "Text(0.5, 1.0, 'Title word count of posts by Controversial/Top posts')"
            ]
          },
          "metadata": {},
          "execution_count": 31
        },
        {
          "output_type": "display_data",
          "data": {
            "text/plain": [
              "<Figure size 432x288 with 1 Axes>"
            ],
            "image/png": "[encoded data removed]"
          },
          "metadata": {
            "needs_background": "light"
          }
        }
      ]
    },
    {
      "cell_type": "code",
      "source": [
        "top_subs_posts_df = posts_df.merge(top_subs.head(5),how='inner',left_on=['subreddit'],right_on=['subreddit'])\n",
        "top_subs_posts_df = top_subs_posts_df[top_subs_posts_df['post_type'] == 1]\n",
        "sns.boxplot(x='subreddit',y='title_word_count',data=top_subs_posts_df,palette='rainbow')\n",
        "plt.xticks(rotation='vertical')\n",
        "plt.title(\"Title word count of Top posts by subreddit\")"
      ],
      "metadata": {
        "colab": {
          "base_uri": "https://localhost:8080/",
          "height": 399
        },
        "id": "9xpQz0xwtW-A",
        "outputId": "be02d6ed-1c4f-436f-9c5a-512ee7ed0f08"
      },
      "execution_count": null,
      "outputs": [
        {
          "output_type": "execute_result",
          "data": {
            "text/plain": [
              "Text(0.5, 1.0, 'Title word count of Top posts by subreddit')"
            ]
          },
          "metadata": {},
          "execution_count": 32
        },
        {
          "output_type": "display_data",
          "data": {
            "text/plain": [
              "<Figure size 432x288 with 1 Axes>"
            ],
            "image/png": "[encoded data removed]"
          },
          "metadata": {
            "needs_background": "light"
          }
        }
      ]
    },
    {
      "cell_type": "code",
      "source": [
        "contro_subs_posts_df = posts_df.merge(contro_subs.head(5),how='inner',left_on=['subreddit'],right_on=['subreddit'])\n",
        "contro_subs_posts_df = contro_subs_posts_df[contro_subs_posts_df['post_type'] == 0]\n",
        "sns.boxplot(x='subreddit',y='title_word_count',data=contro_subs_posts_df,palette='rainbow')\n",
        "plt.xticks(rotation='vertical')\n",
        "plt.title(\"Title word count of Controversial posts by subreddit\")"
      ],
      "metadata": {
        "colab": {
          "base_uri": "https://localhost:8080/",
          "height": 411
        },
        "id": "-K_paCHrtYvF",
        "outputId": "6c349692-b70f-4c5c-98ef-064aeb4d0c13"
      },
      "execution_count": null,
      "outputs": [
        {
          "output_type": "execute_result",
          "data": {
            "text/plain": [
              "Text(0.5, 1.0, 'Title word count of Controversial posts by subreddit')"
            ]
          },
          "metadata": {},
          "execution_count": 33
        },
        {
          "output_type": "display_data",
          "data": {
            "text/plain": [
              "<Figure size 432x288 with 1 Axes>"
            ],
            "image/png": "[encoded data removed]"
          },
          "metadata": {
            "needs_background": "light"
          }
        }
      ]
    },
    {
      "cell_type": "code",
      "source": [
        "from numpy.core.fromnumeric import mean\n",
        "from numpy.lib.function_base import average\n",
        "contro = posts_df[posts_df['post_type'] == 0]\n",
        "print(average(contro['title_word_count']))\n",
        "print(contro['title_word_count'].median())\n",
        "\n",
        "subs = contro.groupby(['title_word_count']).size().reset_index(name='count')\n",
        "\n",
        "plt.bar(subs['title_word_count'], subs['count'])\n",
        "plt.xticks(rotation='vertical')\n",
        "plt.title(\"Title Length of Controversial posts\")\n",
        "plt.ylabel(\"Number of Posts\")\n",
        "plt.xlabel(\"Title Length\")\n",
        "plt.show()\n",
        "\n",
        "### Avg title length is slightly more for controversial posts"
      ],
      "metadata": {
        "colab": {
          "base_uri": "https://localhost:8080/",
          "height": 334
        },
        "id": "36e4GKpMtbiq",
        "outputId": "1406e0ad-1ca7-4fdf-fa94-4e1ff4da343c"
      },
      "execution_count": null,
      "outputs": [
        {
          "output_type": "stream",
          "name": "stdout",
          "text": [
            "10.495669388765156\n",
            "8.0\n"
          ]
        },
        {
          "output_type": "display_data",
          "data": {
            "text/plain": [
              "<Figure size 432x288 with 1 Axes>"
            ],
            "image/png": "[encoded data removed]"
          },
          "metadata": {
            "needs_background": "light"
          }
        }
      ]
    },
    {
      "cell_type": "code",
      "source": [
        "from matplotlib.pyplot import figure\n",
        "\n",
        "top = posts_df[posts_df['post_type'] == 1]\n",
        "\n",
        "top['score'] = (top['score']/10000)\n",
        "top = top.astype({\"score\": int})\n",
        "\n",
        "freq = top.groupby(['score']).size().reset_index(name='count')\n",
        "\n",
        "figure(figsize=(10,6), dpi = 80)\n",
        "plt.bar(freq['score'], freq['count'], align='center')\n",
        "plt.xticks(rotation='vertical')\n",
        "plt.title(\"Frequency Distribution of Top posts by score\")\n",
        "plt.ylabel(\"Number of Posts\")\n",
        "plt.xlabel(\"Score (10,000's)\")\n",
        "plt.show()"
      ],
      "metadata": {
        "colab": {
          "base_uri": "https://localhost:8080/",
          "height": 448
        },
        "id": "n67G-9M7tfPr",
        "outputId": "1d88ec44-9607-4707-d809-f35d3bafc7d2"
      },
      "execution_count": null,
      "outputs": [
        {
          "output_type": "display_data",
          "data": {
            "text/plain": [
              "<Figure size 800x480 with 1 Axes>"
            ],
            "image/png": "[encoded data removed]"
          },
          "metadata": {
            "needs_background": "light"
          }
        }
      ]
    },
    {
      "cell_type": "code",
      "source": [
        "consistent_subs_posts_df = posts_df.merge(consistent_subs,how='inner',left_on=['subreddit'],right_on=['subreddit'])\n",
        "\n",
        "consistent_subs_posts_df['score'] = (consistent_subs_posts_df['score']/10000)\n",
        "consistent_subs_posts_df = consistent_subs_posts_df.astype({\"score\": int})\n",
        "\n",
        "sns.boxplot(x='post_type',y='score',data=consistent_subs_posts_df,palette='rainbow').set(ylabel=\"Score (10,000's)\")\n",
        "plt.title(\"Score of posts by Controversial/Top\")"
      ],
      "metadata": {
        "colab": {
          "base_uri": "https://localhost:8080/",
          "height": 314
        },
        "id": "KD80unrSthHE",
        "outputId": "eb7bcd73-7409-4ac0-cda4-8ff4dcd16843"
      },
      "execution_count": null,
      "outputs": [
        {
          "output_type": "execute_result",
          "data": {
            "text/plain": [
              "Text(0.5, 1.0, 'Score of posts by Controversial/Top')"
            ]
          },
          "metadata": {},
          "execution_count": 36
        },
        {
          "output_type": "display_data",
          "data": {
            "text/plain": [
              "<Figure size 432x288 with 1 Axes>"
            ],
            "image/png": "[encoded data removed]"
          },
          "metadata": {
            "needs_background": "light"
          }
        }
      ]
    },
    {
      "cell_type": "code",
      "source": [
        "top_subs_posts_df = posts_df.merge(top_subs.head(5),how='inner',left_on=['subreddit'],right_on=['subreddit'])\n",
        "top_subs_posts_df = top_subs_posts_df[top_subs_posts_df['post_type'] == 1]\n",
        "\n",
        "top_subs_posts_df['score'] = (top_subs_posts_df['score']/10000)\n",
        "top_subs_posts_df = top_subs_posts_df.astype({\"score\": int})\n",
        "\n",
        "sns.boxplot(x='subreddit',y='score',data=top_subs_posts_df,palette='rainbow').set(ylabel=\"Score (10,000's)\")\n",
        "plt.xticks(rotation='vertical')\n",
        "plt.title(\"Score of Top posts by subreddit\")"
      ],
      "metadata": {
        "colab": {
          "base_uri": "https://localhost:8080/",
          "height": 399
        },
        "id": "K_rc5yCNtiqx",
        "outputId": "07fa7c95-548a-4797-a40f-5a09b8ca8f07"
      },
      "execution_count": null,
      "outputs": [
        {
          "output_type": "execute_result",
          "data": {
            "text/plain": [
              "Text(0.5, 1.0, 'Score of Top posts by subreddit')"
            ]
          },
          "metadata": {},
          "execution_count": 37
        },
        {
          "output_type": "display_data",
          "data": {
            "text/plain": [
              "<Figure size 432x288 with 1 Axes>"
            ],
            "image/png": "[encoded data removed]"
          },
          "metadata": {
            "needs_background": "light"
          }
        }
      ]
    },
    {
      "cell_type": "code",
      "source": [
        "contro_subs_posts_df = posts_df.merge(contro_subs.head(5),how='inner',left_on=['subreddit'],right_on=['subreddit'])\n",
        "contro_subs_posts_df = contro_subs_posts_df[contro_subs_posts_df['post_type'] == 0]\n",
        "\n",
        "contro_subs_posts_df['score'] = (contro_subs_posts_df['score']/10000)\n",
        "contro_subs_posts_df = contro_subs_posts_df.astype({\"score\": int})\n",
        "\n",
        "sns.boxplot(x='subreddit',y='score',data=contro_subs_posts_df,palette='rainbow').set(ylabel=\"Score (10,000's)\")\n",
        "plt.xticks(rotation='vertical')\n",
        "plt.title(\"Score of Controversial posts by subreddit\")"
      ],
      "metadata": {
        "colab": {
          "base_uri": "https://localhost:8080/",
          "height": 411
        },
        "id": "mS2eGSBvtlG-",
        "outputId": "f8c15d8f-5682-40d2-9aac-5cc03c85b16a"
      },
      "execution_count": null,
      "outputs": [
        {
          "output_type": "execute_result",
          "data": {
            "text/plain": [
              "Text(0.5, 1.0, 'Score of Controversial posts by subreddit')"
            ]
          },
          "metadata": {},
          "execution_count": 38
        },
        {
          "output_type": "display_data",
          "data": {
            "text/plain": [
              "<Figure size 432x288 with 1 Axes>"
            ],
            "image/png": "[encoded data removed]"
          },
          "metadata": {
            "needs_background": "light"
          }
        }
      ]
    },
    {
      "cell_type": "code",
      "source": [
        "contro = posts_df[posts_df['post_type'] == 0]\n",
        "\n",
        "contro['score'] = (contro['score']/10000)\n",
        "contro = contro.astype({\"score\": int})\n",
        "\n",
        "freq = contro.groupby(['score']).size().reset_index(name='count')\n",
        "# freq = freq[freq['score']>1]\n",
        "\n",
        "figure(figsize=(10,6), dpi = 80)\n",
        "plt.bar(freq['score'], freq['count'], align='center')\n",
        "plt.xticks(rotation='vertical')\n",
        "plt.title(\"Frequency Distribution of Controversial posts by score\")\n",
        "plt.ylabel(\"Number of Posts\")\n",
        "plt.xlabel(\"Score (10,000's)\")\n",
        "plt.show()"
      ],
      "metadata": {
        "colab": {
          "base_uri": "https://localhost:8080/",
          "height": 448
        },
        "id": "PBfFEtIstm96",
        "outputId": "cf0805e6-c196-4162-f202-3fee5cb71976"
      },
      "execution_count": null,
      "outputs": [
        {
          "output_type": "display_data",
          "data": {
            "text/plain": [
              "<Figure size 800x480 with 1 Axes>"
            ],
            "image/png": "[encoded data removed]"
          },
          "metadata": {
            "needs_background": "light"
          }
        }
      ]
    },
    {
      "cell_type": "code",
      "source": [
        "top = posts_df[posts_df['post_type'] == 1]\n",
        "print(average(top['num_comments']))\n",
        "print(top['num_comments'].median())\n",
        "\n",
        "top['num_comments'] = (top['num_comments']/1000)\n",
        "top = top.astype({\"num_comments\": int})\n",
        "\n",
        "freq = top.groupby(['num_comments']).size().reset_index(name='count')\n",
        "\n",
        "figure(figsize=(10,6), dpi = 80)\n",
        "plt.bar(freq['num_comments'], freq['count'], align='center')\n",
        "plt.xticks(rotation='vertical')\n",
        "plt.title(\"num_comments of Top posts\")\n",
        "plt.ylabel(\"Number of Posts\")\n",
        "plt.xlabel(\"num_comments (thousand's)\")\n",
        "plt.show()"
      ],
      "metadata": {
        "colab": {
          "base_uri": "https://localhost:8080/",
          "height": 485
        },
        "id": "KnDWhPVBtotd",
        "outputId": "c71d979e-ed14-45a6-b57e-c4e26c959728"
      },
      "execution_count": null,
      "outputs": [
        {
          "output_type": "stream",
          "name": "stdout",
          "text": [
            "1907.4732394366197\n",
            "949.5\n"
          ]
        },
        {
          "output_type": "display_data",
          "data": {
            "text/plain": [
              "<Figure size 800x480 with 1 Axes>"
            ],
            "image/png": "[encoded data removed]"
          },
          "metadata": {
            "needs_background": "light"
          }
        }
      ]
    },
    {
      "cell_type": "code",
      "source": [
        "contro = posts_df[posts_df['post_type'] == 0]\n",
        "print(average(contro['num_comments']))\n",
        "print(contro['num_comments'].median())\n",
        "\n",
        "contro['num_comments'] = (contro['num_comments']/1000)\n",
        "contro = contro.astype({\"num_comments\": int})\n",
        "\n",
        "freq = contro.groupby(['num_comments']).size().reset_index(name='count')\n",
        "# freq = freq[freq['num_comments']>1]\n",
        "\n",
        "figure(figsize=(10,6), dpi = 80)\n",
        "plt.bar(freq['num_comments'], freq['count'], align='center')\n",
        "plt.xticks(rotation='vertical')\n",
        "plt.title(\"num_comments of Controversial posts\")\n",
        "plt.ylabel(\"Number of Posts\")\n",
        "plt.xlabel(\"num_comments (thousand's)\")\n",
        "plt.show()"
      ],
      "metadata": {
        "colab": {
          "base_uri": "https://localhost:8080/",
          "height": 485
        },
        "id": "CoFkGNJ9tq7k",
        "outputId": "0a73bded-1d4e-4222-bede-e174cbdbb7ca"
      },
      "execution_count": null,
      "outputs": [
        {
          "output_type": "stream",
          "name": "stdout",
          "text": [
            "181.07770353872803\n",
            "37.0\n"
          ]
        },
        {
          "output_type": "display_data",
          "data": {
            "text/plain": [
              "<Figure size 800x480 with 1 Axes>"
            ],
            "image/png": "[encoded data removed]"
          },
          "metadata": {
            "needs_background": "light"
          }
        }
      ]
    },
    {
      "cell_type": "code",
      "source": [
        "top = posts_df[posts_df['post_type'] == 1]\n",
        "\n",
        "freq = top.groupby(['num_crossposts']).size().reset_index(name='count')#.sort_values(by = 'count', ascending = False)\n",
        "# freq = freq[freq['count']>=3]\n",
        "\n",
        "figure(figsize=(10,6), dpi = 80)\n",
        "plt.bar(freq['num_crossposts'], freq['count'], align='center')\n",
        "plt.xticks(rotation='vertical')\n",
        "plt.title(\"num_crossposts of Top posts\")\n",
        "plt.ylabel(\"Number of Posts\")\n",
        "plt.xlabel(\"num_crossposts\")\n",
        "plt.show()"
      ],
      "metadata": {
        "colab": {
          "base_uri": "https://localhost:8080/",
          "height": 455
        },
        "id": "kzuW25OotwEp",
        "outputId": "e006aab5-c897-4751-a6c4-df2e556f6f93"
      },
      "execution_count": null,
      "outputs": [
        {
          "output_type": "display_data",
          "data": {
            "text/plain": [
              "<Figure size 800x480 with 1 Axes>"
            ],
            "image/png": "[encoded data removed]"
          },
          "metadata": {
            "needs_background": "light"
          }
        }
      ]
    },
    {
      "cell_type": "code",
      "source": [
        "contro = posts_df[posts_df['post_type'] == 0]\n",
        "\n",
        "freq = contro.groupby(['num_crossposts']).size().reset_index(name='count')#.sort_values(by = 'count', ascending = False)\n",
        "freq = freq[freq['count']>=2]\n",
        "\n",
        "figure(figsize=(10,6), dpi = 80)\n",
        "plt.bar(freq['num_crossposts'], freq['count'], align='center')\n",
        "plt.xticks(rotation='vertical')\n",
        "plt.title(\"num_crossposts of Controversial posts\")\n",
        "plt.ylabel(\"Number of Posts\")\n",
        "plt.xlabel(\"num_crossposts\")\n",
        "plt.show()"
      ],
      "metadata": {
        "colab": {
          "base_uri": "https://localhost:8080/",
          "height": 448
        },
        "id": "ZbCx0sfmt1FY",
        "outputId": "ba284acb-d8f1-4eae-dd11-ddb1895ac717"
      },
      "execution_count": null,
      "outputs": [
        {
          "output_type": "display_data",
          "data": {
            "text/plain": [
              "<Figure size 800x480 with 1 Axes>"
            ],
            "image/png": "[encoded data removed]"
          },
          "metadata": {
            "needs_background": "light"
          }
        }
      ]
    },
    {
      "cell_type": "code",
      "source": [
        "# posting in the morning shows slightly better impact\n",
        "sns.boxplot(x='created_session',y='upvote_ratio',data=posts_df,palette='rainbow')\n",
        "sns.set(rc={'figure.figsize':(15,10)})\n",
        "plt.title(\"Upvote Ratio over time of day\")"
      ],
      "metadata": {
        "colab": {
          "base_uri": "https://localhost:8080/",
          "height": 314
        },
        "id": "2DbA709sN_YR",
        "outputId": "343bc8cb-8553-49fb-ee49-f1b98d1e67e6"
      },
      "execution_count": null,
      "outputs": [
        {
          "output_type": "execute_result",
          "data": {
            "text/plain": [
              "Text(0.5, 1.0, 'Upvote Ratio over time of day')"
            ]
          },
          "metadata": {},
          "execution_count": 45
        },
        {
          "output_type": "display_data",
          "data": {
            "text/plain": [
              "<Figure size 432x288 with 1 Axes>"
            ],
            "image/png": "[encoded data removed]"
          },
          "metadata": {
            "needs_background": "light"
          }
        }
      ]
    },
    {
      "cell_type": "code",
      "source": [
        "# posting in month of october and november shows less engagement\n",
        "sns.boxplot(x='created_month',y='upvote_ratio',data=posts_df,palette='rainbow')\n",
        "\n",
        "sns.set(rc={'figure.figsize':(15,10)})"
      ],
      "metadata": {
        "colab": {
          "base_uri": "https://localhost:8080/",
          "height": 611
        },
        "id": "FaKlphN7OM82",
        "outputId": "ee0384fd-3740-4136-f02c-1e471b3c38ba"
      },
      "execution_count": null,
      "outputs": [
        {
          "output_type": "display_data",
          "data": {
            "text/plain": [
              "<Figure size 1080x720 with 1 Axes>"
            ],
            "image/png": "[encoded data removed]"
          },
          "metadata": {}
        }
      ]
    },
    {
      "cell_type": "markdown",
      "source": [
        "# Data Preprocessing"
      ],
      "metadata": {
        "id": "EWgmgpdzDff1"
      }
    },
    {
      "cell_type": "code",
      "source": [
        "posts_df.info()"
      ],
      "metadata": {
        "colab": {
          "base_uri": "https://localhost:8080/"
        },
        "id": "5W2iGrSuDhME",
        "outputId": "5019fccf-386d-461c-997a-a2f1c7c6e8e7"
      },
      "execution_count": null,
      "outputs": [
        {
          "output_type": "stream",
          "name": "stdout",
          "text": [
            "<class 'pandas.core.frame.DataFrame'>\n",
            "Int64Index: 8301 entries, 0 to 680\n",
            "Data columns (total 23 columns):\n",
            " #   Column                 Non-Null Count  Dtype   \n",
            "---  ------                 --------------  -----   \n",
            " 0   title                  8301 non-null   object  \n",
            " 1   score                  8301 non-null   int64   \n",
            " 2   subreddit              8301 non-null   object  \n",
            " 3   num_comments           8301 non-null   int64   \n",
            " 4   body                   1518 non-null   object  \n",
            " 5   is_self                8301 non-null   bool    \n",
            " 6   over_18                8301 non-null   bool    \n",
            " 7   spoiler                8301 non-null   bool    \n",
            " 8   upvote_ratio           8301 non-null   float64 \n",
            " 9   num_crossposts         8301 non-null   int64   \n",
            " 10  subreddit_subscribers  8301 non-null   int64   \n",
            " 11  locked                 8301 non-null   bool    \n",
            " 12  is_original_content    8301 non-null   bool    \n",
            " 13  view_count             0 non-null      float64 \n",
            " 14  num_reports            0 non-null      float64 \n",
            " 15  removed_by_category    1 non-null      object  \n",
            " 16  post_type              8301 non-null   int64   \n",
            " 17  title_word_count       8301 non-null   int64   \n",
            " 18  body_word_count        8301 non-null   int64   \n",
            " 19  create_edit_days       285 non-null    float64 \n",
            " 20  created_month          8301 non-null   int64   \n",
            " 21  created_day            8301 non-null   int64   \n",
            " 22  created_session        8301 non-null   category\n",
            "dtypes: bool(5), category(1), float64(4), int64(9), object(4)\n",
            "memory usage: 1.2+ MB\n"
          ]
        }
      ]
    },
    {
      "cell_type": "code",
      "source": [
        "# converting bool and yes and no values to 1 and 0\n",
        "preprocess_encode = LabelEncoder()\n",
        "posts_df['is_self'] = preprocess_encode.fit_transform(posts_df['is_self'])\n",
        "posts_df['over_18'] = preprocess_encode.fit_transform(posts_df['over_18'])\n",
        "posts_df['spoiler'] = preprocess_encode.fit_transform(posts_df['spoiler'])\n",
        "posts_df['locked'] = preprocess_encode.fit_transform(posts_df['locked'])\n",
        "posts_df['is_original_content'] = preprocess_encode.fit_transform(posts_df['is_original_content'])"
      ],
      "metadata": {
        "id": "AYznvaNtErEn"
      },
      "execution_count": null,
      "outputs": []
    },
    {
      "cell_type": "code",
      "source": [
        "# creating dummies\n",
        "session_dummies = pd.get_dummies(posts_df['created_session'], drop_first=True)\n",
        "rm_category_dummies = pd.get_dummies(posts_df['removed_by_category'], drop_first=True)\n",
        "month_dummies = pd.get_dummies(posts_df['created_month'], prefix='month', prefix_sep='_', drop_first=True)\n",
        "day_dummies = pd.get_dummies(posts_df['created_day'], prefix='day', prefix_sep='_', drop_first=True)"
      ],
      "metadata": {
        "id": "jYyQhtkBYxvq"
      },
      "execution_count": null,
      "outputs": []
    },
    {
      "cell_type": "code",
      "source": [
        "# concating the dummy columns\n",
        "posts_df = pd.concat([posts_df, session_dummies], axis=1)\n",
        "posts_df = pd.concat([posts_df, rm_category_dummies], axis=1)\n",
        "posts_df = pd.concat([posts_df, day_dummies], axis=1)\n",
        "posts_df = pd.concat([posts_df, month_dummies], axis=1)\n",
        "posts_df.head(5)"
      ],
      "metadata": {
        "colab": {
          "base_uri": "https://localhost:8080/",
          "height": 473
        },
        "id": "AROv405teMlU",
        "outputId": "529da473-9426-47d0-cfc5-b252a03e0bec"
      },
      "execution_count": null,
      "outputs": [
        {
          "output_type": "execute_result",
          "data": {
            "text/plain": [
              "                                               title   score  \\\n",
              "0  Citizens chant \"CCP, step down\" and \"Xi Jinpin...  124406   \n",
              "1                                              Meirl  100724   \n",
              "2                           Mime pranking a tourist!   84583   \n",
              "3  My wife, my daughter, and my grandson, sitting...   82613   \n",
              "4  My best astrophotography image since starting ...   70435   \n",
              "\n",
              "          subreddit  num_comments body  is_self  over_18  spoiler  \\\n",
              "0  nextfuckinglevel          6070  NaN        0        0        0   \n",
              "1             meirl           827  NaN        0        0        0   \n",
              "2        Unexpected           653  NaN        0        0        0   \n",
              "3               aww          1035  NaN        0        0        0   \n",
              "4             space           520  NaN        0        0        0   \n",
              "\n",
              "   upvote_ratio  num_crossposts  ...  month_3  month_4  month_5  month_6  \\\n",
              "0          0.87              53  ...        0        0        0        0   \n",
              "1          0.93               3  ...        0        0        0        0   \n",
              "2          0.92              18  ...        0        0        0        0   \n",
              "3          0.90               4  ...        0        0        0        0   \n",
              "4          0.94              10  ...        0        0        0        0   \n",
              "\n",
              "   month_7 month_8  month_9  month_10  month_11  month_12  \n",
              "0        0       0        0         0         1         0  \n",
              "1        0       0        0         0         1         0  \n",
              "2        0       0        0         0         1         0  \n",
              "3        0       0        0         0         1         0  \n",
              "4        0       0        0         0         1         0  \n",
              "\n",
              "[5 rows x 67 columns]"
            ],
            "text/html": [
              "\n",
              "  <div id=\"df-5de1a96e-a738-4b79-9d4b-dfc2b32d4f5d\">\n",
              "    <div class=\"colab-df-container\">\n",
              "      <div>\n",
              "<style scoped>\n",
              "    .dataframe tbody tr th:only-of-type {\n",
              "        vertical-align: middle;\n",
              "    }\n",
              "\n",
              "    .dataframe tbody tr th {\n",
              "        vertical-align: top;\n",
              "    }\n",
              "\n",
              "    .dataframe thead th {\n",
              "        text-align: right;\n",
              "    }\n",
              "</style>\n",
              "<table border=\"1\" class=\"dataframe\">\n",
              "  <thead>\n",
              "    <tr style=\"text-align: right;\">\n",
              "      <th></th>\n",
              "      <th>title</th>\n",
              "      <th>score</th>\n",
              "      <th>subreddit</th>\n",
              "      <th>num_comments</th>\n",
              "      <th>body</th>\n",
              "      <th>is_self</th>\n",
              "      <th>over_18</th>\n",
              "      <th>spoiler</th>\n",
              "      <th>upvote_ratio</th>\n",
              "      <th>num_crossposts</th>\n",
              "      <th>...</th>\n",
              "      <th>month_3</th>\n",
              "      <th>month_4</th>\n",
              "      <th>month_5</th>\n",
              "      <th>month_6</th>\n",
              "      <th>month_7</th>\n",
              "      <th>month_8</th>\n",
              "      <th>month_9</th>\n",
              "      <th>month_10</th>\n",
              "      <th>month_11</th>\n",
              "      <th>month_12</th>\n",
              "    </tr>\n",
              "  </thead>\n",
              "  <tbody>\n",
              "    <tr>\n",
              "      <th>0</th>\n",
              "      <td>Citizens chant \"CCP, step down\" and \"Xi Jinpin...</td>\n",
              "      <td>124406</td>\n",
              "      <td>nextfuckinglevel</td>\n",
              "      <td>6070</td>\n",
              "      <td>NaN</td>\n",
              "      <td>0</td>\n",
              "      <td>0</td>\n",
              "      <td>0</td>\n",
              "      <td>0.87</td>\n",
              "      <td>53</td>\n",
              "      <td>...</td>\n",
              "      <td>0</td>\n",
              "      <td>0</td>\n",
              "      <td>0</td>\n",
              "      <td>0</td>\n",
              "      <td>0</td>\n",
              "      <td>0</td>\n",
              "      <td>0</td>\n",
              "      <td>0</td>\n",
              "      <td>1</td>\n",
              "      <td>0</td>\n",
              "    </tr>\n",
              "    <tr>\n",
              "      <th>1</th>\n",
              "      <td>Meirl</td>\n",
              "      <td>100724</td>\n",
              "      <td>meirl</td>\n",
              "      <td>827</td>\n",
              "      <td>NaN</td>\n",
              "      <td>0</td>\n",
              "      <td>0</td>\n",
              "      <td>0</td>\n",
              "      <td>0.93</td>\n",
              "      <td>3</td>\n",
              "      <td>...</td>\n",
              "      <td>0</td>\n",
              "      <td>0</td>\n",
              "      <td>0</td>\n",
              "      <td>0</td>\n",
              "      <td>0</td>\n",
              "      <td>0</td>\n",
              "      <td>0</td>\n",
              "      <td>0</td>\n",
              "      <td>1</td>\n",
              "      <td>0</td>\n",
              "    </tr>\n",
              "    <tr>\n",
              "      <th>2</th>\n",
              "      <td>Mime pranking a tourist!</td>\n",
              "      <td>84583</td>\n",
              "      <td>Unexpected</td>\n",
              "      <td>653</td>\n",
              "      <td>NaN</td>\n",
              "      <td>0</td>\n",
              "      <td>0</td>\n",
              "      <td>0</td>\n",
              "      <td>0.92</td>\n",
              "      <td>18</td>\n",
              "      <td>...</td>\n",
              "      <td>0</td>\n",
              "      <td>0</td>\n",
              "      <td>0</td>\n",
              "      <td>0</td>\n",
              "      <td>0</td>\n",
              "      <td>0</td>\n",
              "      <td>0</td>\n",
              "      <td>0</td>\n",
              "      <td>1</td>\n",
              "      <td>0</td>\n",
              "    </tr>\n",
              "    <tr>\n",
              "      <th>3</th>\n",
              "      <td>My wife, my daughter, and my grandson, sitting...</td>\n",
              "      <td>82613</td>\n",
              "      <td>aww</td>\n",
              "      <td>1035</td>\n",
              "      <td>NaN</td>\n",
              "      <td>0</td>\n",
              "      <td>0</td>\n",
              "      <td>0</td>\n",
              "      <td>0.90</td>\n",
              "      <td>4</td>\n",
              "      <td>...</td>\n",
              "      <td>0</td>\n",
              "      <td>0</td>\n",
              "      <td>0</td>\n",
              "      <td>0</td>\n",
              "      <td>0</td>\n",
              "      <td>0</td>\n",
              "      <td>0</td>\n",
              "      <td>0</td>\n",
              "      <td>1</td>\n",
              "      <td>0</td>\n",
              "    </tr>\n",
              "    <tr>\n",
              "      <th>4</th>\n",
              "      <td>My best astrophotography image since starting ...</td>\n",
              "      <td>70435</td>\n",
              "      <td>space</td>\n",
              "      <td>520</td>\n",
              "      <td>NaN</td>\n",
              "      <td>0</td>\n",
              "      <td>0</td>\n",
              "      <td>0</td>\n",
              "      <td>0.94</td>\n",
              "      <td>10</td>\n",
              "      <td>...</td>\n",
              "      <td>0</td>\n",
              "      <td>0</td>\n",
              "      <td>0</td>\n",
              "      <td>0</td>\n",
              "      <td>0</td>\n",
              "      <td>0</td>\n",
              "      <td>0</td>\n",
              "      <td>0</td>\n",
              "      <td>1</td>\n",
              "      <td>0</td>\n",
              "    </tr>\n",
              "  </tbody>\n",
              "</table>\n",
              "<p>5 rows × 67 columns</p>\n",
              "</div>\n",
              "      <button class=\"colab-df-convert\" onclick=\"convertToInteractive('df-5de1a96e-a738-4b79-9d4b-dfc2b32d4f5d')\"\n",
              "              title=\"Convert this dataframe to an interactive table.\"\n",
              "              style=\"display:none;\">\n",
              "        \n",
              "  <svg xmlns=\"http://www.w3.org/2000/svg\" height=\"24px\"viewBox=\"0 0 24 24\"\n",
              "       width=\"24px\">\n",
              "    <path d=\"M0 0h24v24H0V0z\" fill=\"none\"/>\n",
              "    <path d=\"M18.56 5.44l.94 2.06.94-2.06 2.06-.94-2.06-.94-.94-2.06-.94 2.06-2.06.94zm-11 1L8.5 8.5l.94-2.06 2.06-.94-2.06-.94L8.5 2.5l-.94 2.06-2.06.94zm10 10l.94 2.06.94-2.06 2.06-.94-2.06-.94-.94-2.06-.94 2.06-2.06.94z\"/><path d=\"M17.41 7.96l-1.37-1.37c-.4-.4-.92-.59-1.43-.59-.52 0-1.04.2-1.43.59L10.3 9.45l-7.72 7.72c-.78.78-.78 2.05 0 2.83L4 21.41c.39.39.9.59 1.41.59.51 0 1.02-.2 1.41-.59l7.78-7.78 2.81-2.81c.8-.78.8-2.07 0-2.86zM5.41 20L4 18.59l7.72-7.72 1.47 1.35L5.41 20z\"/>\n",
              "  </svg>\n",
              "      </button>\n",
              "      \n",
              "  <style>\n",
              "    .colab-df-container {\n",
              "      display:flex;\n",
              "      flex-wrap:wrap;\n",
              "      gap: 12px;\n",
              "    }\n",
              "\n",
              "    .colab-df-convert {\n",
              "      background-color: #E8F0FE;\n",
              "      border: none;\n",
              "      border-radius: 50%;\n",
              "      cursor: pointer;\n",
              "      display: none;\n",
              "      fill: #1967D2;\n",
              "      height: 32px;\n",
              "      padding: 0 0 0 0;\n",
              "      width: 32px;\n",
              "    }\n",
              "\n",
              "    .colab-df-convert:hover {\n",
              "      background-color: #E2EBFA;\n",
              "      box-shadow: 0px 1px 2px rgba(60, 64, 67, 0.3), 0px 1px 3px 1px rgba(60, 64, 67, 0.15);\n",
              "      fill: #174EA6;\n",
              "    }\n",
              "\n",
              "    [theme=dark] .colab-df-convert {\n",
              "      background-color: #3B4455;\n",
              "      fill: #D2E3FC;\n",
              "    }\n",
              "\n",
              "    [theme=dark] .colab-df-convert:hover {\n",
              "      background-color: #434B5C;\n",
              "      box-shadow: 0px 1px 3px 1px rgba(0, 0, 0, 0.15);\n",
              "      filter: drop-shadow(0px 1px 2px rgba(0, 0, 0, 0.3));\n",
              "      fill: #FFFFFF;\n",
              "    }\n",
              "  </style>\n",
              "\n",
              "      <script>\n",
              "        const buttonEl =\n",
              "          document.querySelector('#df-5de1a96e-a738-4b79-9d4b-dfc2b32d4f5d button.colab-df-convert');\n",
              "        buttonEl.style.display =\n",
              "          google.colab.kernel.accessAllowed ? 'block' : 'none';\n",
              "\n",
              "        async function convertToInteractive(key) {\n",
              "          const element = document.querySelector('#df-5de1a96e-a738-4b79-9d4b-dfc2b32d4f5d');\n",
              "          const dataTable =\n",
              "            await google.colab.kernel.invokeFunction('convertToInteractive',\n",
              "                                                     [key], {});\n",
              "          if (!dataTable) return;\n",
              "\n",
              "          const docLinkHtml = 'Like what you see? Visit the ' +\n",
              "            '<a target=\"_blank\" href=https://colab.research.google.com/notebooks/data_table.ipynb>data table notebook</a>'\n",
              "            + ' to learn more about interactive tables.';\n",
              "          element.innerHTML = '';\n",
              "          dataTable['output_type'] = 'display_data';\n",
              "          await google.colab.output.renderOutput(dataTable, element);\n",
              "          const docLink = document.createElement('div');\n",
              "          docLink.innerHTML = docLinkHtml;\n",
              "          element.appendChild(docLink);\n",
              "        }\n",
              "      </script>\n",
              "    </div>\n",
              "  </div>\n",
              "  "
            ]
          },
          "metadata": {},
          "execution_count": 28
        }
      ]
    },
    {
      "cell_type": "code",
      "source": [
        "# replace all nulls with 0\n",
        "posts_df['view_count'].fillna(0, inplace=True)\n",
        "posts_df['num_reports'].fillna(0, inplace=True)\n",
        "posts_df['removed_by_category'].fillna(0, inplace=True)\n",
        "posts_df['create_edit_days'].fillna(0, inplace=True)\n"
      ],
      "metadata": {
        "id": "prm03cn9ZLFp"
      },
      "execution_count": null,
      "outputs": []
    },
    {
      "cell_type": "code",
      "source": [
        "cols_to_drop = ['view_count', 'num_reports', 'created_session', 'subreddit', 'removed_by_category', 'upvote_ratio', 'score', 'num_comments', 'num_crossposts', 'created_month', 'locked', 'subreddit_subscribers', 'created_day']\n",
        "posts_df = posts_df.drop(columns = cols_to_drop)\n",
        "posts_df.head(4)"
      ],
      "metadata": {
        "colab": {
          "base_uri": "https://localhost:8080/",
          "height": 494
        },
        "id": "zH7Qx3PZcA7f",
        "outputId": "f4382c95-b09f-46de-8486-83f2a444b4e2"
      },
      "execution_count": null,
      "outputs": [
        {
          "output_type": "execute_result",
          "data": {
            "text/plain": [
              "                                               title body  is_self  over_18  \\\n",
              "0  Citizens chant \"CCP, step down\" and \"Xi Jinpin...  NaN        0        0   \n",
              "1                                              Meirl  NaN        0        0   \n",
              "2                           Mime pranking a tourist!  NaN        0        0   \n",
              "3  My wife, my daughter, and my grandson, sitting...  NaN        0        0   \n",
              "\n",
              "   spoiler  is_original_content  post_type  title_word_count  body_word_count  \\\n",
              "0        0                    0          1                16                1   \n",
              "1        0                    0          1                 1                1   \n",
              "2        0                    0          1                 4                1   \n",
              "3        0                    0          1                14                1   \n",
              "\n",
              "   create_edit_days  ...  month_3  month_4  month_5  month_6  month_7  \\\n",
              "0               0.0  ...        0        0        0        0        0   \n",
              "1               0.0  ...        0        0        0        0        0   \n",
              "2               0.0  ...        0        0        0        0        0   \n",
              "3               0.0  ...        0        0        0        0        0   \n",
              "\n",
              "   month_8  month_9  month_10  month_11  month_12  \n",
              "0        0        0         0         1         0  \n",
              "1        0        0         0         1         0  \n",
              "2        0        0         0         1         0  \n",
              "3        0        0         0         1         0  \n",
              "\n",
              "[4 rows x 54 columns]"
            ],
            "text/html": [
              "\n",
              "  <div id=\"df-39019b33-39dd-4d0f-85cc-b6e9a1199f35\">\n",
              "    <div class=\"colab-df-container\">\n",
              "      <div>\n",
              "<style scoped>\n",
              "    .dataframe tbody tr th:only-of-type {\n",
              "        vertical-align: middle;\n",
              "    }\n",
              "\n",
              "    .dataframe tbody tr th {\n",
              "        vertical-align: top;\n",
              "    }\n",
              "\n",
              "    .dataframe thead th {\n",
              "        text-align: right;\n",
              "    }\n",
              "</style>\n",
              "<table border=\"1\" class=\"dataframe\">\n",
              "  <thead>\n",
              "    <tr style=\"text-align: right;\">\n",
              "      <th></th>\n",
              "      <th>title</th>\n",
              "      <th>body</th>\n",
              "      <th>is_self</th>\n",
              "      <th>over_18</th>\n",
              "      <th>spoiler</th>\n",
              "      <th>is_original_content</th>\n",
              "      <th>post_type</th>\n",
              "      <th>title_word_count</th>\n",
              "      <th>body_word_count</th>\n",
              "      <th>create_edit_days</th>\n",
              "      <th>...</th>\n",
              "      <th>month_3</th>\n",
              "      <th>month_4</th>\n",
              "      <th>month_5</th>\n",
              "      <th>month_6</th>\n",
              "      <th>month_7</th>\n",
              "      <th>month_8</th>\n",
              "      <th>month_9</th>\n",
              "      <th>month_10</th>\n",
              "      <th>month_11</th>\n",
              "      <th>month_12</th>\n",
              "    </tr>\n",
              "  </thead>\n",
              "  <tbody>\n",
              "    <tr>\n",
              "      <th>0</th>\n",
              "      <td>Citizens chant \"CCP, step down\" and \"Xi Jinpin...</td>\n",
              "      <td>NaN</td>\n",
              "      <td>0</td>\n",
              "      <td>0</td>\n",
              "      <td>0</td>\n",
              "      <td>0</td>\n",
              "      <td>1</td>\n",
              "      <td>16</td>\n",
              "      <td>1</td>\n",
              "      <td>0.0</td>\n",
              "      <td>...</td>\n",
              "      <td>0</td>\n",
              "      <td>0</td>\n",
              "      <td>0</td>\n",
              "      <td>0</td>\n",
              "      <td>0</td>\n",
              "      <td>0</td>\n",
              "      <td>0</td>\n",
              "      <td>0</td>\n",
              "      <td>1</td>\n",
              "      <td>0</td>\n",
              "    </tr>\n",
              "    <tr>\n",
              "      <th>1</th>\n",
              "      <td>Meirl</td>\n",
              "      <td>NaN</td>\n",
              "      <td>0</td>\n",
              "      <td>0</td>\n",
              "      <td>0</td>\n",
              "      <td>0</td>\n",
              "      <td>1</td>\n",
              "      <td>1</td>\n",
              "      <td>1</td>\n",
              "      <td>0.0</td>\n",
              "      <td>...</td>\n",
              "      <td>0</td>\n",
              "      <td>0</td>\n",
              "      <td>0</td>\n",
              "      <td>0</td>\n",
              "      <td>0</td>\n",
              "      <td>0</td>\n",
              "      <td>0</td>\n",
              "      <td>0</td>\n",
              "      <td>1</td>\n",
              "      <td>0</td>\n",
              "    </tr>\n",
              "    <tr>\n",
              "      <th>2</th>\n",
              "      <td>Mime pranking a tourist!</td>\n",
              "      <td>NaN</td>\n",
              "      <td>0</td>\n",
              "      <td>0</td>\n",
              "      <td>0</td>\n",
              "      <td>0</td>\n",
              "      <td>1</td>\n",
              "      <td>4</td>\n",
              "      <td>1</td>\n",
              "      <td>0.0</td>\n",
              "      <td>...</td>\n",
              "      <td>0</td>\n",
              "      <td>0</td>\n",
              "      <td>0</td>\n",
              "      <td>0</td>\n",
              "      <td>0</td>\n",
              "      <td>0</td>\n",
              "      <td>0</td>\n",
              "      <td>0</td>\n",
              "      <td>1</td>\n",
              "      <td>0</td>\n",
              "    </tr>\n",
              "    <tr>\n",
              "      <th>3</th>\n",
              "      <td>My wife, my daughter, and my grandson, sitting...</td>\n",
              "      <td>NaN</td>\n",
              "      <td>0</td>\n",
              "      <td>0</td>\n",
              "      <td>0</td>\n",
              "      <td>0</td>\n",
              "      <td>1</td>\n",
              "      <td>14</td>\n",
              "      <td>1</td>\n",
              "      <td>0.0</td>\n",
              "      <td>...</td>\n",
              "      <td>0</td>\n",
              "      <td>0</td>\n",
              "      <td>0</td>\n",
              "      <td>0</td>\n",
              "      <td>0</td>\n",
              "      <td>0</td>\n",
              "      <td>0</td>\n",
              "      <td>0</td>\n",
              "      <td>1</td>\n",
              "      <td>0</td>\n",
              "    </tr>\n",
              "  </tbody>\n",
              "</table>\n",
              "<p>4 rows × 54 columns</p>\n",
              "</div>\n",
              "      <button class=\"colab-df-convert\" onclick=\"convertToInteractive('df-39019b33-39dd-4d0f-85cc-b6e9a1199f35')\"\n",
              "              title=\"Convert this dataframe to an interactive table.\"\n",
              "              style=\"display:none;\">\n",
              "        \n",
              "  <svg xmlns=\"http://www.w3.org/2000/svg\" height=\"24px\"viewBox=\"0 0 24 24\"\n",
              "       width=\"24px\">\n",
              "    <path d=\"M0 0h24v24H0V0z\" fill=\"none\"/>\n",
              "    <path d=\"M18.56 5.44l.94 2.06.94-2.06 2.06-.94-2.06-.94-.94-2.06-.94 2.06-2.06.94zm-11 1L8.5 8.5l.94-2.06 2.06-.94-2.06-.94L8.5 2.5l-.94 2.06-2.06.94zm10 10l.94 2.06.94-2.06 2.06-.94-2.06-.94-.94-2.06-.94 2.06-2.06.94z\"/><path d=\"M17.41 7.96l-1.37-1.37c-.4-.4-.92-.59-1.43-.59-.52 0-1.04.2-1.43.59L10.3 9.45l-7.72 7.72c-.78.78-.78 2.05 0 2.83L4 21.41c.39.39.9.59 1.41.59.51 0 1.02-.2 1.41-.59l7.78-7.78 2.81-2.81c.8-.78.8-2.07 0-2.86zM5.41 20L4 18.59l7.72-7.72 1.47 1.35L5.41 20z\"/>\n",
              "  </svg>\n",
              "      </button>\n",
              "      \n",
              "  <style>\n",
              "    .colab-df-container {\n",
              "      display:flex;\n",
              "      flex-wrap:wrap;\n",
              "      gap: 12px;\n",
              "    }\n",
              "\n",
              "    .colab-df-convert {\n",
              "      background-color: #E8F0FE;\n",
              "      border: none;\n",
              "      border-radius: 50%;\n",
              "      cursor: pointer;\n",
              "      display: none;\n",
              "      fill: #1967D2;\n",
              "      height: 32px;\n",
              "      padding: 0 0 0 0;\n",
              "      width: 32px;\n",
              "    }\n",
              "\n",
              "    .colab-df-convert:hover {\n",
              "      background-color: #E2EBFA;\n",
              "      box-shadow: 0px 1px 2px rgba(60, 64, 67, 0.3), 0px 1px 3px 1px rgba(60, 64, 67, 0.15);\n",
              "      fill: #174EA6;\n",
              "    }\n",
              "\n",
              "    [theme=dark] .colab-df-convert {\n",
              "      background-color: #3B4455;\n",
              "      fill: #D2E3FC;\n",
              "    }\n",
              "\n",
              "    [theme=dark] .colab-df-convert:hover {\n",
              "      background-color: #434B5C;\n",
              "      box-shadow: 0px 1px 3px 1px rgba(0, 0, 0, 0.15);\n",
              "      filter: drop-shadow(0px 1px 2px rgba(0, 0, 0, 0.3));\n",
              "      fill: #FFFFFF;\n",
              "    }\n",
              "  </style>\n",
              "\n",
              "      <script>\n",
              "        const buttonEl =\n",
              "          document.querySelector('#df-39019b33-39dd-4d0f-85cc-b6e9a1199f35 button.colab-df-convert');\n",
              "        buttonEl.style.display =\n",
              "          google.colab.kernel.accessAllowed ? 'block' : 'none';\n",
              "\n",
              "        async function convertToInteractive(key) {\n",
              "          const element = document.querySelector('#df-39019b33-39dd-4d0f-85cc-b6e9a1199f35');\n",
              "          const dataTable =\n",
              "            await google.colab.kernel.invokeFunction('convertToInteractive',\n",
              "                                                     [key], {});\n",
              "          if (!dataTable) return;\n",
              "\n",
              "          const docLinkHtml = 'Like what you see? Visit the ' +\n",
              "            '<a target=\"_blank\" href=https://colab.research.google.com/notebooks/data_table.ipynb>data table notebook</a>'\n",
              "            + ' to learn more about interactive tables.';\n",
              "          element.innerHTML = '';\n",
              "          dataTable['output_type'] = 'display_data';\n",
              "          await google.colab.output.renderOutput(dataTable, element);\n",
              "          const docLink = document.createElement('div');\n",
              "          docLink.innerHTML = docLinkHtml;\n",
              "          element.appendChild(docLink);\n",
              "        }\n",
              "      </script>\n",
              "    </div>\n",
              "  </div>\n",
              "  "
            ]
          },
          "metadata": {},
          "execution_count": 30
        }
      ]
    },
    {
      "cell_type": "code",
      "source": [
        "# removing filling nans with 0's (this only happends for create edits days column)\n",
        "posts_df = posts_df.fillna(0)"
      ],
      "metadata": {
        "id": "47vQhPELesj4"
      },
      "execution_count": null,
      "outputs": []
    },
    {
      "cell_type": "markdown",
      "source": [
        "# Model Building"
      ],
      "metadata": {
        "id": "W8JAZHLQ6d8z"
      }
    },
    {
      "cell_type": "code",
      "source": [
        "# there is not a lot of between subreddits of top and controversial posts\n",
        "1 - len(set(list(top_subs.keys())).intersection(list(cont_subs.keys()))) / len(set(list(top_subs.keys()) + list(cont_subs.keys())))"
      ],
      "metadata": {
        "colab": {
          "base_uri": "https://localhost:8080/"
        },
        "id": "5liYGxNgAtKt",
        "outputId": "2e747cbe-9410-47c4-cba7-f65733a5b023"
      },
      "execution_count": null,
      "outputs": [
        {
          "output_type": "execute_result",
          "data": {
            "text/plain": [
              "0.8276923076923077"
            ]
          },
          "metadata": {},
          "execution_count": 32
        }
      ]
    },
    {
      "cell_type": "code",
      "source": [
        "# removing post type (depedent variable from X)\n",
        "posts_df_bk = posts_df.copy()\n",
        "y = posts_df['post_type']\n",
        "del posts_df['post_type']\n",
        "X = posts_df"
      ],
      "metadata": {
        "id": "YnGR5d4qYVJ_"
      },
      "execution_count": null,
      "outputs": []
    },
    {
      "cell_type": "code",
      "source": [
        "# creating a stratified split\n",
        "X_train, X_test, y_train, y_test  = train_test_split(X, y, stratify=y, test_size=0.3, random_state=15)"
      ],
      "metadata": {
        "id": "kprQhMsWYjMi"
      },
      "execution_count": null,
      "outputs": []
    },
    {
      "cell_type": "code",
      "source": [
        "X_train_bk = X_train.copy()\n",
        "X_test_bk = X_test.copy()"
      ],
      "metadata": {
        "id": "wsCDnF94nNKS"
      },
      "execution_count": null,
      "outputs": []
    },
    {
      "cell_type": "code",
      "source": [
        "# removing features with text\n",
        "del X_train['body']\n",
        "del X_train['title']\n",
        "del X_test['body']\n",
        "del X_test['title']"
      ],
      "metadata": {
        "id": "Vi3xi8zlnPUW"
      },
      "execution_count": null,
      "outputs": []
    },
    {
      "cell_type": "code",
      "source": [
        "# scaling features so everything is uniform\n",
        "scaler = StandardScaler()\n",
        "Xscaled_fit = scaler.fit(X_train)\n",
        "Xscaled_train = Xscaled_fit.transform(X_train)\n",
        "Xscaled_test= Xscaled_fit.transform(X_test)"
      ],
      "metadata": {
        "id": "H1-9cNIl4W6o"
      },
      "execution_count": null,
      "outputs": []
    },
    {
      "cell_type": "code",
      "source": [
        "# fitting logistic regression (without subreddit name feature)\n",
        "clf_wo_subreddit = LogisticRegressionCV(cv=5, random_state=0).fit(Xscaled_train, y_train)\n",
        "preds = clf_wo_subreddit.predict(Xscaled_test)\n",
        "pred_prob = clf_wo_subreddit.predict_proba(Xscaled_test)"
      ],
      "metadata": {
        "id": "fP4qS7hG5EUR"
      },
      "execution_count": null,
      "outputs": []
    },
    {
      "cell_type": "code",
      "source": [
        "# checking model output\n",
        "print(plot_confusion_matrix(clf_wo_subreddit, Xscaled_test, y_test))\n",
        "print('\\n')\n",
        "print(classification_report(y_test, preds))\n",
        "plt.plot()\n",
        "print('\\n') \n",
        "print(plot_roc_curve(clf_wo_subreddit, Xscaled_test, y_test))"
      ],
      "metadata": {
        "colab": {
          "base_uri": "https://localhost:8080/",
          "height": 814
        },
        "id": "6RHk8Pzb5OAZ",
        "outputId": "a942e67c-26b2-4a74-8403-a5eef5018359"
      },
      "execution_count": null,
      "outputs": [
        {
          "output_type": "stream",
          "name": "stdout",
          "text": [
            "<sklearn.metrics._plot.confusion_matrix.ConfusionMatrixDisplay object at 0x7faf9f2ee820>\n",
            "\n",
            "\n",
            "              precision    recall  f1-score   support\n",
            "\n",
            "           0       0.90      0.48      0.63      1213\n",
            "           1       0.66      0.95      0.78      1278\n",
            "\n",
            "    accuracy                           0.72      2491\n",
            "   macro avg       0.78      0.72      0.70      2491\n",
            "weighted avg       0.78      0.72      0.71      2491\n",
            "\n",
            "\n",
            "\n",
            "<sklearn.metrics._plot.roc_curve.RocCurveDisplay object at 0x7faf9f2eea90>\n"
          ]
        },
        {
          "output_type": "display_data",
          "data": {
            "text/plain": [
              "<Figure size 432x288 with 2 Axes>"
            ],
            "image/png": "[encoded data removed]"
          },
          "metadata": {
            "needs_background": "light"
          }
        },
        {
          "output_type": "display_data",
          "data": {
            "text/plain": [
              "<Figure size 432x288 with 1 Axes>"
            ],
            "image/png": "[encoded data removed]"
          },
          "metadata": {
            "needs_background": "light"
          }
        }
      ]
    },
    {
      "cell_type": "code",
      "source": [
        "# plotting coeffficients\n",
        "coeff_df = pd.DataFrame({'coeff': clf_wo_subreddit.coef_[0], 'features':X_train.columns.values.tolist()})\n",
        "coeff_df = coeff_df.sort_values(by='coeff')"
      ],
      "metadata": {
        "id": "CBC_u8zB9k8g"
      },
      "execution_count": null,
      "outputs": []
    },
    {
      "cell_type": "code",
      "source": [
        "# top 10 features (in terms of coefficient magnitude)\n",
        "plt.figure(figsize = (30, 6))\n",
        " \n",
        "# creating the bar plot\n",
        "plt.bar(coeff_df['features'][-15:],coeff_df['coeff'][-15:], color ='maroon',\n",
        "        width = 0.5)\n",
        "        "
      ],
      "metadata": {
        "id": "k2w_7SNRTPGI",
        "colab": {
          "base_uri": "https://localhost:8080/",
          "height": 341
        },
        "outputId": "9ca1f75c-380d-4e6f-dda1-3f40f3a753e2"
      },
      "execution_count": null,
      "outputs": [
        {
          "output_type": "execute_result",
          "data": {
            "text/plain": [
              "<BarContainer object of 15 artists>"
            ]
          },
          "metadata": {},
          "execution_count": 41
        },
        {
          "output_type": "display_data",
          "data": {
            "text/plain": [
              "<Figure size 2160x432 with 1 Axes>"
            ],
            "image/png": "[encoded data removed]"
          },
          "metadata": {
            "needs_background": "light"
          }
        }
      ]
    },
    {
      "cell_type": "code",
      "source": [
        "# lower 10 features (in terms of coefficient magnitude)\n",
        "plt.figure(figsize = (30, 6))\n",
        " \n",
        "# creating the bar plot\n",
        "plt.bar(coeff_df['features'][:15],coeff_df['coeff'][:15], color ='maroon',\n",
        "        width = 0.5)"
      ],
      "metadata": {
        "colab": {
          "base_uri": "https://localhost:8080/",
          "height": 341
        },
        "id": "q322pydVUQl4",
        "outputId": "1ebda3ee-fa58-4597-c46b-2cb11aac23a1"
      },
      "execution_count": null,
      "outputs": [
        {
          "output_type": "execute_result",
          "data": {
            "text/plain": [
              "<BarContainer object of 15 artists>"
            ]
          },
          "metadata": {},
          "execution_count": 42
        },
        {
          "output_type": "display_data",
          "data": {
            "text/plain": [
              "<Figure size 2160x432 with 1 Axes>"
            ],
            "image/png": "[encoded data removed]"
          },
          "metadata": {
            "needs_background": "light"
          }
        }
      ]
    },
    {
      "cell_type": "markdown",
      "source": [
        "## Adding subreddit name as a feature (with one hot encoding)"
      ],
      "metadata": {
        "id": "4idYeOYbCU_p"
      }
    },
    {
      "cell_type": "code",
      "source": [
        "top_posts[\"post_type\"] = 1\n",
        "controversial_posts[\"post_type\"] = 0\n",
        "posts_df_subreddit_info = pd.concat([top_posts, controversial_posts])"
      ],
      "metadata": {
        "id": "myVLBdzBDwqR"
      },
      "execution_count": null,
      "outputs": []
    },
    {
      "cell_type": "code",
      "source": [
        "sub_dummies = pd.get_dummies(posts_df_subreddit_info['subreddit'], drop_first=True)\n",
        "posts_df = pd.concat([posts_df, sub_dummies], axis=1)"
      ],
      "metadata": {
        "id": "M2CnUq_RH6fq"
      },
      "execution_count": null,
      "outputs": []
    },
    {
      "cell_type": "code",
      "source": [
        "X = posts_df\n",
        "X_train, X_test, y_train, y_test  = train_test_split(X, y, stratify=y, test_size=0.3, random_state=15)"
      ],
      "metadata": {
        "id": "KwKsNE9RH4O5"
      },
      "execution_count": null,
      "outputs": []
    },
    {
      "cell_type": "code",
      "source": [
        "X_train_bk = X_train.copy()\n",
        "X_test_bk = X_test.copy()"
      ],
      "metadata": {
        "id": "A5NbsTLZpNzU"
      },
      "execution_count": null,
      "outputs": []
    },
    {
      "cell_type": "code",
      "source": [
        "del X_train['body']\n",
        "del X_train['title']\n",
        "del X_test['body']\n",
        "del X_test['title']"
      ],
      "metadata": {
        "id": "xc7RRr6qpWTN"
      },
      "execution_count": null,
      "outputs": []
    },
    {
      "cell_type": "code",
      "source": [
        "scaler = StandardScaler()\n",
        "Xscaled_fit = scaler.fit(X_train)\n",
        "Xscaled_train = Xscaled_fit.transform(X_train)\n",
        "Xscaled_test= Xscaled_fit.transform(X_test)"
      ],
      "metadata": {
        "id": "GdA7YgFGIUSQ"
      },
      "execution_count": null,
      "outputs": []
    },
    {
      "cell_type": "code",
      "source": [
        "# fitting logistic with regularization with subreddit name\n",
        "clf = LogisticRegressionCV(cv=5, random_state=0).fit(Xscaled_train, y_train)\n",
        "y_pred = clf.predict(X_test)"
      ],
      "metadata": {
        "id": "FsLxlOgp2rNV"
      },
      "execution_count": null,
      "outputs": []
    },
    {
      "cell_type": "code",
      "source": [
        "# getting model accuracy\n",
        "print(plot_confusion_matrix(clf, Xscaled_test, y_test))\n",
        "print('\\n')\n",
        "print(classification_report(y_test, y_pred))\n",
        "plt.plot()\n",
        "print('\\n') \n",
        "print(plot_roc_curve(clf, Xscaled_test, y_test))"
      ],
      "metadata": {
        "colab": {
          "base_uri": "https://localhost:8080/",
          "height": 812
        },
        "id": "4rSLVdFX6s8Y",
        "outputId": "a13c8da0-154a-43cd-9806-bf7dfe281b50"
      },
      "execution_count": null,
      "outputs": [
        {
          "output_type": "stream",
          "name": "stdout",
          "text": [
            "<sklearn.metrics._plot.confusion_matrix.ConfusionMatrixDisplay object at 0x7faf9f38cee0>\n",
            "\n",
            "\n",
            "              precision    recall  f1-score   support\n",
            "\n",
            "           0       0.54      0.97      0.70      1213\n",
            "           1       0.88      0.23      0.36      1278\n",
            "\n",
            "    accuracy                           0.59      2491\n",
            "   macro avg       0.71      0.60      0.53      2491\n",
            "weighted avg       0.71      0.59      0.53      2491\n",
            "\n",
            "\n",
            "\n",
            "<sklearn.metrics._plot.roc_curve.RocCurveDisplay object at 0x7faf9f3a1cd0>\n"
          ]
        },
        {
          "output_type": "display_data",
          "data": {
            "text/plain": [
              "<Figure size 432x288 with 2 Axes>"
            ],
            "image/png": "[encoded data removed]"
          },
          "metadata": {
            "needs_background": "light"
          }
        },
        {
          "output_type": "display_data",
          "data": {
            "text/plain": [
              "<Figure size 432x288 with 1 Axes>"
            ],
            "image/png": "[encoded data removed]"
          },
          "metadata": {
            "needs_background": "light"
          }
        }
      ]
    },
    {
      "cell_type": "code",
      "source": [
        "coeff_df = pd.DataFrame({'coeff': clf.coef_[0], 'features':X_train.columns.values.tolist()})\n",
        "coeff_df = coeff_df.sort_values(by='coeff')"
      ],
      "metadata": {
        "id": "0cbzn7T1Iat5"
      },
      "execution_count": null,
      "outputs": []
    },
    {
      "cell_type": "code",
      "source": [
        "# plotting top 10 features\n",
        "plt.figure(figsize = (30, 6))\n",
        " \n",
        "# creating the bar plot\n",
        "plt.bar(coeff_df['features'][-15:],coeff_df['coeff'][-15:], color ='maroon',\n",
        "        width = 0.5)"
      ],
      "metadata": {
        "colab": {
          "base_uri": "https://localhost:8080/",
          "height": 345
        },
        "id": "gX-bD9i6Iq44",
        "outputId": "ddaa9381-297b-4db4-e465-09a0001ae9ad"
      },
      "execution_count": null,
      "outputs": [
        {
          "output_type": "execute_result",
          "data": {
            "text/plain": [
              "<BarContainer object of 15 artists>"
            ]
          },
          "metadata": {},
          "execution_count": 52
        },
        {
          "output_type": "display_data",
          "data": {
            "text/plain": [
              "<Figure size 2160x432 with 1 Axes>"
            ],
            "image/png": "[encoded data removed]"
          },
          "metadata": {
            "needs_background": "light"
          }
        }
      ]
    },
    {
      "cell_type": "code",
      "source": [
        "# plotting bottom 10 features\n",
        "plt.figure(figsize = (30, 6))\n",
        " \n",
        "# creating the bar plot\n",
        "plt.bar(coeff_df['features'][:15],coeff_df['coeff'][:15], color ='maroon',\n",
        "        width = 0.5)"
      ],
      "metadata": {
        "colab": {
          "base_uri": "https://localhost:8080/",
          "height": 347
        },
        "id": "njfORAiEIsvT",
        "outputId": "51dd3be6-0c60-4e99-b340-b533b8599e9b"
      },
      "execution_count": null,
      "outputs": [
        {
          "output_type": "execute_result",
          "data": {
            "text/plain": [
              "<BarContainer object of 15 artists>"
            ]
          },
          "metadata": {},
          "execution_count": 53
        },
        {
          "output_type": "display_data",
          "data": {
            "text/plain": [
              "<Figure size 2160x432 with 1 Axes>"
            ],
            "image/png": "[encoded data removed]"
          },
          "metadata": {
            "needs_background": "light"
          }
        }
      ]
    },
    {
      "cell_type": "code",
      "source": [
        "# only subsetting list of features that dont have a 0 coefficient\n",
        "features = coeff_df[(coeff_df['coeff'] < -0.1)]['features'].tolist() + coeff_df[(coeff_df['coeff'] > 0.1)]['features'].tolist()"
      ],
      "metadata": {
        "id": "xygmtSA0HpbT"
      },
      "execution_count": null,
      "outputs": []
    },
    {
      "cell_type": "markdown",
      "source": [
        "## Feature importance and Random Forest Classifier"
      ],
      "metadata": {
        "id": "28zWY5OCxVvd"
      }
    },
    {
      "cell_type": "code",
      "source": [
        "rfc_100 = RandomForestClassifier(random_state=0)\n",
        "\n",
        "rfc_100.fit(Xscaled_train, y_train)\n",
        "\n",
        "y_pred_100 = rfc_100.predict(Xscaled_test)\n",
        "\n",
        "# Check accuracy score \n",
        "print('Model accuracy score with default (out of the box) rfm : {0:0.4f}'. format(accuracy_score(y_test, y_pred_100)))"
      ],
      "metadata": {
        "id": "Vs9K5OVYKGNS",
        "colab": {
          "base_uri": "https://localhost:8080/"
        },
        "outputId": "873ad30c-f318-415c-a531-1c71c5ab4587"
      },
      "execution_count": null,
      "outputs": [
        {
          "output_type": "stream",
          "name": "stdout",
          "text": [
            "Model accuracy score with default (out of the box) rfm : 0.8129\n"
          ]
        }
      ]
    },
    {
      "cell_type": "code",
      "source": [
        "print(plot_confusion_matrix(rfc_100, Xscaled_test, y_test))\n",
        "print('\\n')\n",
        "print(classification_report(y_test, y_pred_100))\n",
        "plt.plot()\n",
        "print('\\n') \n",
        "print(plot_roc_curve(rfc_100, Xscaled_test, y_test))"
      ],
      "metadata": {
        "colab": {
          "base_uri": "https://localhost:8080/",
          "height": 812
        },
        "id": "IwMxlSjk3cxJ",
        "outputId": "3cbfdb9a-3652-48a1-df64-7d6463332846"
      },
      "execution_count": null,
      "outputs": [
        {
          "output_type": "stream",
          "name": "stdout",
          "text": [
            "<sklearn.metrics._plot.confusion_matrix.ConfusionMatrixDisplay object at 0x7faf9e310610>\n",
            "\n",
            "\n",
            "              precision    recall  f1-score   support\n",
            "\n",
            "           0       0.87      0.72      0.79      1213\n",
            "           1       0.77      0.90      0.83      1278\n",
            "\n",
            "    accuracy                           0.81      2491\n",
            "   macro avg       0.82      0.81      0.81      2491\n",
            "weighted avg       0.82      0.81      0.81      2491\n",
            "\n",
            "\n",
            "\n",
            "<sklearn.metrics._plot.roc_curve.RocCurveDisplay object at 0x7faf9e972490>\n"
          ]
        },
        {
          "output_type": "display_data",
          "data": {
            "text/plain": [
              "<Figure size 432x288 with 2 Axes>"
            ],
            "image/png": "[encoded data removed]"
          },
          "metadata": {
            "needs_background": "light"
          }
        },
        {
          "output_type": "display_data",
          "data": {
            "text/plain": [
              "<Figure size 432x288 with 1 Axes>"
            ],
            "image/png": "[encoded data removed]"
          },
          "metadata": {
            "needs_background": "light"
          }
        }
      ]
    },
    {
      "cell_type": "code",
      "source": [
        "# Creating a seaborn bar plot (plotting top 20 features)\n",
        "feature_scores = pd.Series(rfc_100.feature_importances_, index=X_train.columns).sort_values(ascending=False)\n",
        "f, ax = plt.subplots(figsize=(20, 10))\n",
        "ax = sns.barplot(x=feature_scores[:20], y=feature_scores.index[:20], data=df)\n",
        "ax.set_title(\"Visualize feature scores of the features\")\n",
        "ax.set_yticklabels(feature_scores.index)\n",
        "ax.set_xlabel(\"Feature importance score\")\n",
        "ax.set_ylabel(\"Features\")\n",
        "plt.show()"
      ],
      "metadata": {
        "colab": {
          "base_uri": "https://localhost:8080/",
          "height": 621
        },
        "id": "7ObXcYbA9Mvw",
        "outputId": "38d4de35-0f22-41d6-8dc2-51df7d236429"
      },
      "execution_count": null,
      "outputs": [
        {
          "output_type": "display_data",
          "data": {
            "text/plain": [
              "<Figure size 1440x720 with 1 Axes>"
            ],
            "image/png": "[encoded data removed]"
          },
          "metadata": {
            "needs_background": "light"
          }
        }
      ]
    },
    {
      "cell_type": "markdown",
      "source": [
        "RFM feature importance appears to be giving more importance to features having high cardinality. (In this case continuous variables). This might be incorrect so we will use SHAP feature importance instead."
      ],
      "metadata": {
        "id": "Is-19hywTu8W"
      }
    },
    {
      "cell_type": "markdown",
      "source": [
        "## Default XGBoost Classifier"
      ],
      "metadata": {
        "id": "93bTSFMqTxcx"
      }
    },
    {
      "cell_type": "code",
      "source": [
        "# Init classifier\n",
        "xgb_cl = xgb.XGBClassifier()\n",
        "\n",
        "# Fit\n",
        "xgb_cl.fit(Xscaled_train , y_train)\n",
        "\n",
        "# Predict\n",
        "preds = xgb_cl.predict(Xscaled_test)"
      ],
      "metadata": {
        "id": "mVe7TOtoNQlc"
      },
      "execution_count": null,
      "outputs": []
    },
    {
      "cell_type": "code",
      "source": [
        "print(plot_confusion_matrix(xgb_cl, Xscaled_test, y_test))\n",
        "print('\\n')\n",
        "print(classification_report(y_test, preds))\n",
        "plt.plot()\n",
        "print('\\n') \n",
        "print(plot_roc_curve(xgb_cl, Xscaled_test, y_test))"
      ],
      "metadata": {
        "colab": {
          "base_uri": "https://localhost:8080/",
          "height": 812
        },
        "id": "gvlfkYAyCPtP",
        "outputId": "52a0a6d5-cf51-4e2f-aac4-c72ae79b7c5d"
      },
      "execution_count": null,
      "outputs": [
        {
          "output_type": "stream",
          "name": "stdout",
          "text": [
            "<sklearn.metrics._plot.confusion_matrix.ConfusionMatrixDisplay object at 0x7faf9e94b7f0>\n",
            "\n",
            "\n",
            "              precision    recall  f1-score   support\n",
            "\n",
            "           0       0.85      0.72      0.78      1213\n",
            "           1       0.77      0.88      0.82      1278\n",
            "\n",
            "    accuracy                           0.80      2491\n",
            "   macro avg       0.81      0.80      0.80      2491\n",
            "weighted avg       0.81      0.80      0.80      2491\n",
            "\n",
            "\n",
            "\n",
            "<sklearn.metrics._plot.roc_curve.RocCurveDisplay object at 0x7faf9e8fb340>\n"
          ]
        },
        {
          "output_type": "display_data",
          "data": {
            "text/plain": [
              "<Figure size 432x288 with 2 Axes>"
            ],
            "image/png": "[encoded data removed]"
          },
          "metadata": {
            "needs_background": "light"
          }
        },
        {
          "output_type": "display_data",
          "data": {
            "text/plain": [
              "<Figure size 432x288 with 1 Axes>"
            ],
            "image/png": "[encoded data removed]"
          },
          "metadata": {
            "needs_background": "light"
          }
        }
      ]
    },
    {
      "cell_type": "code",
      "source": [
        "xgb_cl.get_params"
      ],
      "metadata": {
        "colab": {
          "base_uri": "https://localhost:8080/"
        },
        "id": "CfYvaX72kf-8",
        "outputId": "5b7e21b6-edad-416f-cc69-a6e10489f44c"
      },
      "execution_count": null,
      "outputs": [
        {
          "output_type": "execute_result",
          "data": {
            "text/plain": [
              "<bound method XGBModel.get_params of XGBClassifier(base_score=0.5, booster='gbtree', callbacks=None,\n",
              "              colsample_bylevel=1, colsample_bynode=1, colsample_bytree=1,\n",
              "              early_stopping_rounds=None, enable_categorical=False,\n",
              "              eval_metric=None, feature_types=None, gamma=0, gpu_id=-1,\n",
              "              grow_policy='depthwise', importance_type=None,\n",
              "              interaction_constraints='', learning_rate=0.300000012,\n",
              "              max_bin=256, max_cat_threshold=64, max_cat_to_onehot=4,\n",
              "              max_delta_step=0, max_depth=6, max_leaves=0, min_child_weight=1,\n",
              "              missing=nan, monotone_constraints='()', n_estimators=100,\n",
              "              n_jobs=0, num_parallel_tree=1, predictor='auto', random_state=0, ...)>"
            ]
          },
          "metadata": {},
          "execution_count": 60
        }
      ]
    },
    {
      "cell_type": "code",
      "source": [
        "# Creating a seaborn bar plot\n",
        "feature_scores = pd.Series(xgb_cl.feature_importances_, index=X_train.columns).sort_values(ascending=False)\n",
        "f, ax = plt.subplots(figsize=(20, 10))\n",
        "ax = sns.barplot(x=feature_scores[:20], y=feature_scores.index[:20], data=df)\n",
        "ax.set_title(\"Visualize feature scores of the features\")\n",
        "ax.set_yticklabels(feature_scores.index)\n",
        "ax.set_xlabel(\"Feature importance score\")\n",
        "ax.set_ylabel(\"Features\")\n",
        "plt.show()"
      ],
      "metadata": {
        "colab": {
          "base_uri": "https://localhost:8080/",
          "height": 621
        },
        "id": "slEpz2WtNs6z",
        "outputId": "887eb293-0e5c-49f5-c0a1-9af2bdca7adf"
      },
      "execution_count": null,
      "outputs": [
        {
          "output_type": "display_data",
          "data": {
            "text/plain": [
              "<Figure size 1440x720 with 1 Axes>"
            ],
            "image/png": "[encoded data removed]"
          },
          "metadata": {
            "needs_background": "light"
          }
        }
      ]
    },
    {
      "cell_type": "markdown",
      "source": [
        "## XGBoost with Bayesian Optimization"
      ],
      "metadata": {
        "id": "bZSboSbEUJXs"
      }
    },
    {
      "cell_type": "code",
      "source": [
        "log_file = open('AML_reddit_post_engagement.log', 'a')\n",
        "AUCbest = -1.\n",
        "ITERbest = 0\n",
        "\n",
        "# XGB Cv constructor\n",
        "def XGB_CV(\n",
        "          learning_rate,\n",
        "          max_depth,\n",
        "          gamma,\n",
        "          min_child_weight,\n",
        "          max_delta_step,\n",
        "          subsample,\n",
        "          colsample_bytree\n",
        "         ):\n",
        "\n",
        "    global AUCbest\n",
        "    global ITERbest\n",
        "\n",
        "\n",
        "# parameter initialization\n",
        "    paramt = {\n",
        "              'booster' : 'gbtree',\n",
        "              'max_depth' : int(max_depth),\n",
        "              'gamma' : gamma,\n",
        "              'objective' : 'binary:logistic',\n",
        "              'silent' : True,\n",
        "              'eval_metric': 'auc',\n",
        "              'subsample' : max(min(subsample, 1), 0),\n",
        "              'colsample_bytree' : max(min(colsample_bytree, 1), 0),\n",
        "              'min_child_weight' : min_child_weight,\n",
        "              'max_delta_step' : int(max_delta_step),\n",
        "              'learning_rate' : learning_rate,\n",
        "              'scale_pos_weight' :(1-sum(y_train)/len(y_train)),\n",
        "              }\n",
        "# folds  \n",
        "    folds = 5  \n",
        "    cv_score = 0\n",
        "\n",
        "    print(\"\\n Search parameters (%d-fold validation):\\n %s\" % (folds, paramt), file=log_file )\n",
        "    log_file.flush()\n",
        "\n",
        "# adding cv\n",
        "    xgbc = xgb.cv(\n",
        "                    paramt,\n",
        "                    dtrain,\n",
        "                    stratified = True,\n",
        "                    num_boost_round = 300,\n",
        "                    nfold = folds,\n",
        "                    # verbose_eval = 10,\n",
        "                    early_stopping_rounds = 100,\n",
        "                    metrics = 'auc',\n",
        "                    show_stdv = True\n",
        "               )\n",
        "\n",
        "# print train and validation sores\n",
        "    val_score = xgbc['test-auc-mean'].iloc[-1]\n",
        "    train_score = xgbc['train-auc-mean'].iloc[-1]\n",
        "    print(' Stopped after %d iterations with train-auc = %f val-auc = %f ( diff = %f ) train-gini = %f val-gini = %f' % ( len(xgbc), train_score, val_score, (train_score - val_score), (train_score*2-1),\n",
        "(val_score*2-1)) )\n",
        "    if ( val_score > AUCbest ):\n",
        "        AUCbest = val_score\n",
        "        ITERbest = len(xgbc)\n",
        "\n",
        "    return (val_score*2) - 1"
      ],
      "metadata": {
        "id": "FDNH3VZ4B1Dc"
      },
      "execution_count": null,
      "outputs": []
    },
    {
      "cell_type": "code",
      "source": [
        "#initialize xgb matrix with train setQ\n",
        "dtrain = xgb.DMatrix(Xscaled_train, label = y_train)"
      ],
      "metadata": {
        "id": "Q32NyR_NFhwb"
      },
      "execution_count": null,
      "outputs": []
    },
    {
      "cell_type": "code",
      "source": [
        "#parameter search space\n",
        "XGB_BO = BayesianOptimization(XGB_CV, {\n",
        "                                     'max_depth': (2, 30),\n",
        "                                     'gamma': (0.001, 10.0),\n",
        "                                     'learning_rate':(0.2, 0.8),\n",
        "                                     'min_child_weight': (1, 10),\n",
        "                                     'max_delta_step': (1, 10),\n",
        "                                     'subsample': (0.1, 1.0),\n",
        "                                     'colsample_bytree' :(0.1, 1.0)\n",
        "                                    })"
      ],
      "metadata": {
        "id": "dJ7oF80yCWyc"
      },
      "execution_count": null,
      "outputs": []
    },
    {
      "cell_type": "code",
      "source": [
        "%%time\n",
        "xgb.set_config(verbosity=0)\n",
        "print('-'*130)\n",
        "print('-'*130, file=log_file)\n",
        "log_file.flush()\n",
        "\n",
        "with warnings.catch_warnings():\n",
        "    warnings.filterwarnings('ignore')\n",
        "    XGB_BO.maximize(init_points=6, n_iter=10, acq='ei', xi=0.0)"
      ],
      "metadata": {
        "id": "XFPQYMvmF2aU",
        "colab": {
          "base_uri": "https://localhost:8080/"
        },
        "outputId": "43d47caf-9078-4e47-8f2f-26fb94a170a7"
      },
      "execution_count": null,
      "outputs": [
        {
          "output_type": "stream",
          "name": "stdout",
          "text": [
            "----------------------------------------------------------------------------------------------------------------------------------\n",
            "|   iter    |  target   | colsam... |   gamma   | learni... | max_de... | max_depth | min_ch... | subsample |\n",
            "-------------------------------------------------------------------------------------------------------------\n",
            " Stopped after 181 iterations with train-auc = 0.814377 val-auc = 0.809636 ( diff = 0.004742 ) train-gini = 0.628755 val-gini = 0.619271\n",
            "| \u001b[0m1        \u001b[0m | \u001b[0m0.6193   \u001b[0m | \u001b[0m0.6657   \u001b[0m | \u001b[0m7.949    \u001b[0m | \u001b[0m0.3059   \u001b[0m | \u001b[0m4.91     \u001b[0m | \u001b[0m18.13    \u001b[0m | \u001b[0m7.58     \u001b[0m | \u001b[0m0.4783   \u001b[0m |\n",
            " Stopped after 63 iterations with train-auc = 0.812937 val-auc = 0.802253 ( diff = 0.010684 ) train-gini = 0.625875 val-gini = 0.604506\n",
            "| \u001b[0m2        \u001b[0m | \u001b[0m0.6045   \u001b[0m | \u001b[0m0.6684   \u001b[0m | \u001b[0m1.286    \u001b[0m | \u001b[0m0.504    \u001b[0m | \u001b[0m4.191    \u001b[0m | \u001b[0m12.12    \u001b[0m | \u001b[0m7.057    \u001b[0m | \u001b[0m0.1808   \u001b[0m |\n",
            " Stopped after 300 iterations with train-auc = 0.843543 val-auc = 0.836427 ( diff = 0.007117 ) train-gini = 0.687087 val-gini = 0.672853\n",
            "| \u001b[95m3        \u001b[0m | \u001b[95m0.6729   \u001b[0m | \u001b[95m0.2131   \u001b[0m | \u001b[95m9.102    \u001b[0m | \u001b[95m0.3905   \u001b[0m | \u001b[95m9.135    \u001b[0m | \u001b[95m28.81    \u001b[0m | \u001b[95m5.016    \u001b[0m | \u001b[95m0.6681   \u001b[0m |\n",
            " Stopped after 300 iterations with train-auc = 0.869127 val-auc = 0.853319 ( diff = 0.015808 ) train-gini = 0.738255 val-gini = 0.706638\n",
            "| \u001b[95m4        \u001b[0m | \u001b[95m0.7066   \u001b[0m | \u001b[95m0.1562   \u001b[0m | \u001b[95m3.774    \u001b[0m | \u001b[95m0.3969   \u001b[0m | \u001b[95m7.271    \u001b[0m | \u001b[95m21.71    \u001b[0m | \u001b[95m5.267    \u001b[0m | \u001b[95m0.9981   \u001b[0m |\n",
            " Stopped after 48 iterations with train-auc = 0.914939 val-auc = 0.867995 ( diff = 0.046944 ) train-gini = 0.829877 val-gini = 0.735990\n",
            "| \u001b[95m5        \u001b[0m | \u001b[95m0.736    \u001b[0m | \u001b[95m0.9298   \u001b[0m | \u001b[95m2.008    \u001b[0m | \u001b[95m0.7327   \u001b[0m | \u001b[95m2.765    \u001b[0m | \u001b[95m26.08    \u001b[0m | \u001b[95m2.269    \u001b[0m | \u001b[95m0.5814   \u001b[0m |\n",
            " Stopped after 179 iterations with train-auc = 0.951666 val-auc = 0.899133 ( diff = 0.052533 ) train-gini = 0.903332 val-gini = 0.798265\n",
            "| \u001b[95m6        \u001b[0m | \u001b[95m0.7983   \u001b[0m | \u001b[95m0.1      \u001b[0m | \u001b[95m0.001    \u001b[0m | \u001b[95m0.635    \u001b[0m | \u001b[95m8.181    \u001b[0m | \u001b[95m26.05    \u001b[0m | \u001b[95m1.0      \u001b[0m | \u001b[95m1.0      \u001b[0m |\n",
            " Stopped after 24 iterations with train-auc = 0.914161 val-auc = 0.848691 ( diff = 0.065470 ) train-gini = 0.828322 val-gini = 0.697383\n",
            "| \u001b[0m7        \u001b[0m | \u001b[0m0.6974   \u001b[0m | \u001b[0m1.0      \u001b[0m | \u001b[0m0.001    \u001b[0m | \u001b[0m0.8      \u001b[0m | \u001b[0m10.0     \u001b[0m | \u001b[0m30.0     \u001b[0m | \u001b[0m5.808    \u001b[0m | \u001b[0m1.0      \u001b[0m |\n",
            " Stopped after 5 iterations with train-auc = 0.815196 val-auc = 0.798803 ( diff = 0.016393 ) train-gini = 0.630391 val-gini = 0.597605\n",
            "| \u001b[0m8        \u001b[0m | \u001b[0m0.5976   \u001b[0m | \u001b[0m1.0      \u001b[0m | \u001b[0m0.001    \u001b[0m | \u001b[0m0.8      \u001b[0m | \u001b[0m10.0     \u001b[0m | \u001b[0m21.99    \u001b[0m | \u001b[0m1.0      \u001b[0m | \u001b[0m0.1      \u001b[0m |\n",
            " Stopped after 90 iterations with train-auc = 0.903298 val-auc = 0.864451 ( diff = 0.038848 ) train-gini = 0.806596 val-gini = 0.728901\n",
            "| \u001b[0m9        \u001b[0m | \u001b[0m0.7289   \u001b[0m | \u001b[0m0.6276   \u001b[0m | \u001b[0m2.186    \u001b[0m | \u001b[0m0.6687   \u001b[0m | \u001b[0m1.397    \u001b[0m | \u001b[0m18.39    \u001b[0m | \u001b[0m3.553    \u001b[0m | \u001b[0m0.7882   \u001b[0m |\n",
            " Stopped after 170 iterations with train-auc = 0.802411 val-auc = 0.798589 ( diff = 0.003822 ) train-gini = 0.604821 val-gini = 0.597178\n",
            "| \u001b[0m10       \u001b[0m | \u001b[0m0.5972   \u001b[0m | \u001b[0m0.3578   \u001b[0m | \u001b[0m6.331    \u001b[0m | \u001b[0m0.2782   \u001b[0m | \u001b[0m7.765    \u001b[0m | \u001b[0m2.83     \u001b[0m | \u001b[0m5.156    \u001b[0m | \u001b[0m0.1236   \u001b[0m |\n",
            " Stopped after 91 iterations with train-auc = 0.816276 val-auc = 0.804374 ( diff = 0.011902 ) train-gini = 0.632552 val-gini = 0.608749\n",
            "| \u001b[0m11       \u001b[0m | \u001b[0m0.6087   \u001b[0m | \u001b[0m0.7949   \u001b[0m | \u001b[0m4.861    \u001b[0m | \u001b[0m0.6587   \u001b[0m | \u001b[0m3.971    \u001b[0m | \u001b[0m27.43    \u001b[0m | \u001b[0m9.244    \u001b[0m | \u001b[0m0.4581   \u001b[0m |\n",
            " Stopped after 300 iterations with train-auc = 0.837001 val-auc = 0.830734 ( diff = 0.006267 ) train-gini = 0.674001 val-gini = 0.661468\n",
            "| \u001b[0m12       \u001b[0m | \u001b[0m0.6615   \u001b[0m | \u001b[0m0.1229   \u001b[0m | \u001b[0m4.924    \u001b[0m | \u001b[0m0.6497   \u001b[0m | \u001b[0m7.556    \u001b[0m | \u001b[0m20.39    \u001b[0m | \u001b[0m8.05     \u001b[0m | \u001b[0m0.9063   \u001b[0m |\n",
            "=============================================================================================================\n",
            "CPU times: user 1h 16min 13s, sys: 9.2 s, total: 1h 16min 22s\n",
            "Wall time: 1h 16min 31s\n"
          ]
        }
      ]
    },
    {
      "cell_type": "code",
      "source": [
        "XGB_BO.get_params"
      ],
      "metadata": {
        "colab": {
          "base_uri": "https://localhost:8080/"
        },
        "id": "mImp473TXpHe",
        "outputId": "24d0ed24-dc55-4fce-ad13-68e2a06a283c"
      },
      "execution_count": null,
      "outputs": [
        {
          "output_type": "execute_result",
          "data": {
            "text/plain": [
              "<bound method XGBModel.get_params of XGBClassifier(base_score=0.5, booster='gbtree', callbacks=None,\n",
              "              colsample_bylevel=1, colsample_bynode=1, colsample_bytree=1,\n",
              "              early_stopping_rounds=None, enable_categorical=False,\n",
              "              eval_metric=None, feature_types=None, gamma=0, gpu_id=-1,\n",
              "              grow_policy='depthwise', importance_type=None,\n",
              "              interaction_constraints='', learning_rate=0.300000012,\n",
              "              max_bin=256, max_cat_threshold=64, max_cat_to_onehot=4,\n",
              "              max_delta_step=0, max_depth=6, max_leaves=0, min_child_weight=1,\n",
              "              missing=nan, monotone_constraints='()', n_estimators=100,\n",
              "              n_jobs=0, num_parallel_tree=1, predictor='auto', random_state=0, ...)>"
            ]
          },
          "metadata": {},
          "execution_count": 79
        }
      ]
    },
    {
      "cell_type": "code",
      "source": [
        "# Init classifier (using best parameters from bayesian optimization)\n",
        "xgb_cl_tuned = xgb.XGBClassifier(max_depth=10,\n",
        "                                  gamma=0,\n",
        "                                  learning_rate=0.3,\n",
        "                                  min_child_weight=0.5,\n",
        "                                  max_delta_step=0,\n",
        "                                  colsample_bytree=0.5,\n",
        "                                  n_estimators=150)\n",
        "\n",
        "# Fit\n",
        "xgb_cl_tuned.fit(Xscaled_train, y_train)\n",
        "\n",
        "# Predict\n",
        "preds_tuned = xgb_cl_tuned.predict(Xscaled_test)"
      ],
      "metadata": {
        "id": "AiDj2bKQVQF8"
      },
      "execution_count": null,
      "outputs": []
    },
    {
      "cell_type": "code",
      "source": [
        "print(plot_confusion_matrix(xgb_cl_tuned, Xscaled_test, y_test))\n",
        "print('\\n')\n",
        "print(classification_report(y_test, preds_tuned))\n",
        "plt.plot()\n",
        "print('\\n') \n",
        "print(plot_roc_curve(xgb_cl_tuned, Xscaled_test, y_test))"
      ],
      "metadata": {
        "colab": {
          "base_uri": "https://localhost:8080/",
          "height": 812
        },
        "id": "fOasJALOWv--",
        "outputId": "fa0e5e1d-5aff-4af7-9bae-e8c866e82ded"
      },
      "execution_count": null,
      "outputs": [
        {
          "output_type": "stream",
          "name": "stdout",
          "text": [
            "<sklearn.metrics._plot.confusion_matrix.ConfusionMatrixDisplay object at 0x7fd2130cf9a0>\n",
            "\n",
            "\n",
            "              precision    recall  f1-score   support\n",
            "\n",
            "           0       0.85      0.79      0.82      1213\n",
            "           1       0.81      0.87      0.84      1278\n",
            "\n",
            "    accuracy                           0.83      2491\n",
            "   macro avg       0.83      0.83      0.83      2491\n",
            "weighted avg       0.83      0.83      0.83      2491\n",
            "\n",
            "\n",
            "\n",
            "<sklearn.metrics._plot.roc_curve.RocCurveDisplay object at 0x7fd213a83d30>\n"
          ]
        },
        {
          "output_type": "display_data",
          "data": {
            "text/plain": [
              "<Figure size 432x288 with 2 Axes>"
            ],
            "image/png": "[encoded data removed]"
          },
          "metadata": {
            "needs_background": "light"
          }
        },
        {
          "output_type": "display_data",
          "data": {
            "text/plain": [
              "<Figure size 432x288 with 1 Axes>"
            ],
            "image/png": "[encoded data removed]"
          },
          "metadata": {
            "needs_background": "light"
          }
        }
      ]
    },
    {
      "cell_type": "markdown",
      "source": [
        "# Shap feature importance"
      ],
      "metadata": {
        "id": "_Fn_lI39N2X1"
      }
    },
    {
      "cell_type": "code",
      "source": [
        "# DF, based on which importance is checked\n",
        "X_importance = X_train"
      ],
      "metadata": {
        "id": "H1eaVl7-ANUE"
      },
      "execution_count": null,
      "outputs": []
    },
    {
      "cell_type": "code",
      "source": [
        "explainer = shap.TreeExplainer(xgb_cl, Xscaled_train)\n",
        "shap_values = explainer.shap_values(Xscaled_train)"
      ],
      "metadata": {
        "id": "JB90_dz_PmIG",
        "colab": {
          "base_uri": "https://localhost:8080/"
        },
        "outputId": "f184696e-342e-4935-a88f-431fbabe4e62"
      },
      "execution_count": null,
      "outputs": [
        {
          "output_type": "stream",
          "name": "stderr",
          "text": [
            "\r 94%|=================== | 5447/5810 [00:11<00:00]       "
          ]
        }
      ]
    },
    {
      "cell_type": "code",
      "source": [
        "# Plot summary_plot\n",
        "shap.summary_plot(shap_values, X_importance)"
      ],
      "metadata": {
        "colab": {
          "base_uri": "https://localhost:8080/",
          "height": 693
        },
        "id": "Xv_QieznRfIP",
        "outputId": "6ed3328f-5cba-4701-cfa5-49cc43ea409a"
      },
      "execution_count": null,
      "outputs": [
        {
          "output_type": "display_data",
          "data": {
            "text/plain": [
              "<Figure size 576x684 with 2 Axes>"
            ],
            "image/png": "[encoded data removed]"
          },
          "metadata": {
            "needs_background": "light"
          }
        }
      ]
    },
    {
      "cell_type": "code",
      "source": [
        "# Plot summary_plot as barplot:\n",
        "shap.summary_plot(shap_values, X_importance, plot_type='bar')"
      ],
      "metadata": {
        "colab": {
          "base_uri": "https://localhost:8080/",
          "height": 693
        },
        "id": "YVw7cy-ERHgm",
        "outputId": "25f49984-62dd-4961-8101-bbdc177195ee"
      },
      "execution_count": null,
      "outputs": [
        {
          "output_type": "display_data",
          "data": {
            "text/plain": [
              "<Figure size 576x684 with 1 Axes>"
            ],
            "image/png": "[encoded data removed]"
          },
          "metadata": {
            "needs_background": "light"
          }
        }
      ]
    },
    {
      "cell_type": "markdown",
      "source": [
        "# KeyBERT (keyword extraction)"
      ],
      "metadata": {
        "id": "w2Q-mKs-mTTs"
      }
    },
    {
      "cell_type": "code",
      "source": [
        "concat_bk_train = pd.concat([X_train_bk[['title', 'body']], y_train], axis=1)"
      ],
      "metadata": {
        "id": "zqQQRV14rTmp"
      },
      "execution_count": null,
      "outputs": []
    },
    {
      "cell_type": "code",
      "source": [
        "sentence_ls_top = concat_bk_train[concat_bk_train['post_type'] == 1]['title'].tolist()\n",
        "sentence_ls_contro = concat_bk_train[concat_bk_train['post_type'] == 0]['title'].tolist()"
      ],
      "metadata": {
        "id": "mrf33QIepo2Q"
      },
      "execution_count": null,
      "outputs": []
    },
    {
      "cell_type": "code",
      "source": [
        "doc_top = '. '.join(''.join(sent) for sent in sentence_ls_top) + '.'\n",
        "doc_contro = '. '.join(''.join(sent) for sent in sentence_ls_contro) + '.'\n",
        "kw_model = KeyBERT()\n",
        "keywords_top = kw_model.extract_keywords(doc_top)\n",
        "keywords_contro = kw_model.extract_keywords(doc_contro)"
      ],
      "metadata": {
        "id": "4djQQW-gmYm6"
      },
      "execution_count": null,
      "outputs": []
    },
    {
      "cell_type": "code",
      "source": [
        "keywords_top"
      ],
      "metadata": {
        "colab": {
          "base_uri": "https://localhost:8080/"
        },
        "id": "mYwPrG9XmwL9",
        "outputId": "de52b77d-6743-4aeb-83cb-c12499209249"
      },
      "execution_count": null,
      "outputs": [
        {
          "output_type": "execute_result",
          "data": {
            "text/plain": [
              "[('viral', 0.3197),\n",
              " ('kitty', 0.3019),\n",
              " ('quarantine', 0.2999),\n",
              " ('crisis', 0.2994),\n",
              " ('cybercrew', 0.2939)]"
            ]
          },
          "metadata": {},
          "execution_count": 82
        }
      ]
    },
    {
      "cell_type": "code",
      "source": [
        "keywords_contro"
      ],
      "metadata": {
        "colab": {
          "base_uri": "https://localhost:8080/"
        },
        "id": "iI5HqfRPsBmo",
        "outputId": "eb98b911-6fff-4aa0-95e9-5f0fddd1271e"
      },
      "execution_count": null,
      "outputs": [
        {
          "output_type": "execute_result",
          "data": {
            "text/plain": [
              "[('antifa', 0.4569),\n",
              " ('criminology', 0.3814),\n",
              " ('conspiracies', 0.3585),\n",
              " ('scapegoating', 0.3309),\n",
              " ('scandal', 0.305)]"
            ]
          },
          "metadata": {},
          "execution_count": 83
        }
      ]
    },
    {
      "cell_type": "code",
      "source": [
        "kw_model.extract_keywords(doc_top, keyphrase_ngram_range=(2, 2), top_n=10, use_mmr=True, diversity=0.7)"
      ],
      "metadata": {
        "colab": {
          "base_uri": "https://localhost:8080/"
        },
        "id": "5gUzERt5tN80",
        "outputId": "b317dc91-a20b-4b4d-f9a0-6ce8acfd6240"
      },
      "execution_count": null,
      "outputs": [
        {
          "output_type": "execute_result",
          "data": {
            "text/plain": [
              "[('internet humongous', 0.4022),\n",
              " ('haha lol', 0.2605),\n",
              " ('bringing coronavirus', 0.2538),\n",
              " ('adorable guardian', 0.201),\n",
              " ('cnbc anchor', 0.1708),\n",
              " ('cooking stopped', 0.1481),\n",
              " ('injustice did', 0.121),\n",
              " ('savings lower', 0.114),\n",
              " ('endorsing elections', 0.0828),\n",
              " ('layer screenprint', -0.0387)]"
            ]
          },
          "metadata": {},
          "execution_count": 85
        }
      ]
    },
    {
      "cell_type": "code",
      "source": [
        "kw_model.extract_keywords(doc_contro, keyphrase_ngram_range=(2, 2), top_n=10, use_mmr=True, diversity=0.7)"
      ],
      "metadata": {
        "colab": {
          "base_uri": "https://localhost:8080/"
        },
        "id": "xLfYTnEk_Ffs",
        "outputId": "92f79fc0-0baa-4c0f-e0f3-83f2d47920a7"
      },
      "execution_count": null,
      "outputs": [
        {
          "output_type": "execute_result",
          "data": {
            "text/plain": [
              "[('antifa threat', 0.5314),\n",
              " ('heard trial', 0.3093),\n",
              " ('agree totally', 0.2221),\n",
              " ('kidding lololol', 0.1866),\n",
              " ('nick fuentes', 0.1636),\n",
              " ('miscalculating powder', 0.1273),\n",
              " ('outlets ignoring', 0.0895),\n",
              " ('rkt cnbc', 0.0829),\n",
              " ('dishwasher persistence', 0.0405),\n",
              " ('surgery broken', -0.0185)]"
            ]
          },
          "metadata": {},
          "execution_count": 88
        }
      ]
    },
    {
      "cell_type": "code",
      "source": [
        "kw_model.extract_keywords(doc_top, keyphrase_ngram_range=(2, 2), stop_words='english',  use_maxsum=True,  top_n=10,  nr_candidates=20)"
      ],
      "metadata": {
        "colab": {
          "base_uri": "https://localhost:8080/"
        },
        "id": "T8BO1X4c_xPZ",
        "outputId": "5940a364-287e-4326-a3a7-92a8233dc8ce"
      },
      "execution_count": null,
      "outputs": [
        {
          "output_type": "execute_result",
          "data": {
            "text/plain": [
              "[('viral friends', 0.3225),\n",
              " ('net neutrality', 0.3252),\n",
              " ('rescue cat', 0.3264),\n",
              " ('unbanning trump', 0.3267),\n",
              " ('cyberattacks sway', 0.3382),\n",
              " ('quarantine reminder', 0.3393),\n",
              " ('turned internet', 0.3414),\n",
              " ('neutrality save', 0.3441),\n",
              " ('snapchat dad', 0.3456),\n",
              " ('blog vitality', 0.3503)]"
            ]
          },
          "metadata": {},
          "execution_count": 91
        }
      ]
    },
    {
      "cell_type": "code",
      "source": [
        "kw_model.extract_keywords(doc_contro, keyphrase_ngram_range=(2, 2), stop_words='english',  use_maxsum=True,  top_n=10,  nr_candidates=20)"
      ],
      "metadata": {
        "colab": {
          "base_uri": "https://localhost:8080/"
        },
        "id": "qIAzGkNstr0j",
        "outputId": "9b3c841f-a67d-40b9-e1e5-32eb513ad282"
      },
      "execution_count": null,
      "outputs": [
        {
          "output_type": "execute_result",
          "data": {
            "text/plain": [
              "[('agree criminals', 0.3392),\n",
              " ('integrity protestors', 0.3429),\n",
              " ('justice 2016', 0.3468),\n",
              " ('leftist anti', 0.347),\n",
              " ('conspiracies don', 0.3515),\n",
              " ('meeting anti', 0.3573),\n",
              " ('moscow murders', 0.3828),\n",
              " ('investigation dumbest', 0.4129),\n",
              " ('criminology podcast', 0.4153),\n",
              " ('supporters antifa', 0.4361)]"
            ]
          },
          "metadata": {},
          "execution_count": 92
        }
      ]
    }
  ]
}